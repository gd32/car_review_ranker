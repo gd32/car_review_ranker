{
 "cells": [
  {
   "cell_type": "markdown",
   "metadata": {},
   "source": [
    "# Data Cleaning - Car Statistics data"
   ]
  },
  {
   "cell_type": "code",
   "execution_count": 3,
   "metadata": {},
   "outputs": [],
   "source": [
    "import pandas as pd\n",
    "import numpy as np"
   ]
  },
  {
   "cell_type": "code",
   "execution_count": 30,
   "metadata": {},
   "outputs": [],
   "source": [
    "df = pd.read_csv('data/cars.csv')"
   ]
  },
  {
   "cell_type": "code",
   "execution_count": 32,
   "metadata": {},
   "outputs": [
    {
     "data": {
      "text/plain": [
       "(326, 10)"
      ]
     },
     "execution_count": 32,
     "metadata": {},
     "output_type": "execute_result"
    }
   ],
   "source": [
    "df.shape"
   ]
  },
  {
   "cell_type": "markdown",
   "metadata": {},
   "source": [
    "We have statistics on 326 cars. We notice that upon scraping some sites, we get over 400 reviews; it is likely that there are reviews for individual trim levels or special packages for specific models."
   ]
  },
  {
   "cell_type": "code",
   "execution_count": 33,
   "metadata": {
    "scrolled": true
   },
   "outputs": [
    {
     "data": {
      "text/plain": [
       "year/make/model     10\n",
       "price               18\n",
       "value               69\n",
       "engine              18\n",
       "trans               18\n",
       "trim                10\n",
       "group               18\n",
       "horsepower          18\n",
       "mpg                 33\n",
       "Unnamed: 9         303\n",
       "dtype: int64"
      ]
     },
     "execution_count": 33,
     "metadata": {},
     "output_type": "execute_result"
    }
   ],
   "source": [
    "df.isnull().sum()"
   ]
  },
  {
   "cell_type": "markdown",
   "metadata": {},
   "source": [
    "`value` appears to be missing for many high-end luxury cars (makes sense considering they have prices far above most other cars). Let's drop that column since we can do comparisons with the actual price as a proxy for value if we want to."
   ]
  },
  {
   "cell_type": "code",
   "execution_count": 34,
   "metadata": {},
   "outputs": [],
   "source": [
    "df.drop(['value', 'Unnamed: 9'], axis=1, inplace=True)"
   ]
  },
  {
   "cell_type": "code",
   "execution_count": 35,
   "metadata": {},
   "outputs": [
    {
     "data": {
      "text/html": [
       "<div>\n",
       "<table border=\"1\" class=\"dataframe\">\n",
       "  <thead>\n",
       "    <tr style=\"text-align: right;\">\n",
       "      <th></th>\n",
       "      <th>year/make/model</th>\n",
       "      <th>price</th>\n",
       "      <th>engine</th>\n",
       "      <th>trans</th>\n",
       "      <th>trim</th>\n",
       "      <th>group</th>\n",
       "      <th>horsepower</th>\n",
       "      <th>mpg</th>\n",
       "    </tr>\n",
       "  </thead>\n",
       "  <tbody>\n",
       "    <tr>\n",
       "      <th>9</th>\n",
       "      <td>2018 Aston Martin Vanquish</td>\n",
       "      <td>NaN</td>\n",
       "      <td>NaN</td>\n",
       "      <td>NaN</td>\n",
       "      <td>Base Coupe</td>\n",
       "      <td>NaN</td>\n",
       "      <td>NaN</td>\n",
       "      <td>NaN</td>\n",
       "    </tr>\n",
       "    <tr>\n",
       "      <th>10</th>\n",
       "      <td>2018 Aston Martin DB11</td>\n",
       "      <td>NaN</td>\n",
       "      <td>NaN</td>\n",
       "      <td>NaN</td>\n",
       "      <td>Base Coupe</td>\n",
       "      <td>NaN</td>\n",
       "      <td>NaN</td>\n",
       "      <td>NaN</td>\n",
       "    </tr>\n",
       "    <tr>\n",
       "      <th>34</th>\n",
       "      <td>2018 Bentley Mulsanne</td>\n",
       "      <td>NaN</td>\n",
       "      <td>NaN</td>\n",
       "      <td>NaN</td>\n",
       "      <td>Base Sedan</td>\n",
       "      <td>NaN</td>\n",
       "      <td>NaN</td>\n",
       "      <td>NaN</td>\n",
       "    </tr>\n",
       "    <tr>\n",
       "      <th>37</th>\n",
       "      <td>2018 BMW M5</td>\n",
       "      <td>$102,600</td>\n",
       "      <td>Engine: V8 Turbo 4.4 Liter</td>\n",
       "      <td>Steptronic 8 Speed Automatic with Manual Mode ...</td>\n",
       "      <td>Base Sedan</td>\n",
       "      <td>Luxury Performance Car</td>\n",
       "      <td>600@5700</td>\n",
       "      <td>NaN</td>\n",
       "    </tr>\n",
       "    <tr>\n",
       "      <th>61</th>\n",
       "      <td>2018 Cadillac ATS</td>\n",
       "      <td>$35,495</td>\n",
       "      <td>Engine: 4-Cyl Turbo 2.0 Liter Ecotec</td>\n",
       "      <td>Hydra-Matic 8 Speed Automatic Mode Select with...</td>\n",
       "      <td>2.0 RWD Sedan</td>\n",
       "      <td>Premium Compact Passenger Car</td>\n",
       "      <td>272@5500</td>\n",
       "      <td>NaN</td>\n",
       "    </tr>\n",
       "  </tbody>\n",
       "</table>\n",
       "</div>"
      ],
      "text/plain": [
       "               year/make/model      price  \\\n",
       "9   2018 Aston Martin Vanquish        NaN   \n",
       "10      2018 Aston Martin DB11        NaN   \n",
       "34       2018 Bentley Mulsanne        NaN   \n",
       "37                 2018 BMW M5  $102,600    \n",
       "61           2018 Cadillac ATS   $35,495    \n",
       "\n",
       "                                  engine  \\\n",
       "9                                    NaN   \n",
       "10                                   NaN   \n",
       "34                                   NaN   \n",
       "37            Engine: V8 Turbo 4.4 Liter   \n",
       "61  Engine: 4-Cyl Turbo 2.0 Liter Ecotec   \n",
       "\n",
       "                                                trans           trim  \\\n",
       "9                                                 NaN     Base Coupe   \n",
       "10                                                NaN     Base Coupe   \n",
       "34                                                NaN     Base Sedan   \n",
       "37  Steptronic 8 Speed Automatic with Manual Mode ...     Base Sedan   \n",
       "61  Hydra-Matic 8 Speed Automatic Mode Select with...  2.0 RWD Sedan   \n",
       "\n",
       "                            group horsepower  mpg  \n",
       "9                             NaN        NaN  NaN  \n",
       "10                            NaN        NaN  NaN  \n",
       "34                            NaN        NaN  NaN  \n",
       "37         Luxury Performance Car   600@5700  NaN  \n",
       "61  Premium Compact Passenger Car   272@5500  NaN  "
      ]
     },
     "execution_count": 35,
     "metadata": {},
     "output_type": "execute_result"
    }
   ],
   "source": [
    "df[df['mpg'].isnull()].head()"
   ]
  },
  {
   "cell_type": "markdown",
   "metadata": {},
   "source": [
    "It looks like we are missing most stats for some exotics. Since we are aiming to make a general recommender, let's drop all rows with missing `engine` or `trans` to eliminate those exotics:"
   ]
  },
  {
   "cell_type": "code",
   "execution_count": 36,
   "metadata": {},
   "outputs": [],
   "source": [
    "df.dropna(subset=['engine', 'trans'], inplace=True)"
   ]
  },
  {
   "cell_type": "code",
   "execution_count": 37,
   "metadata": {},
   "outputs": [
    {
     "data": {
      "text/html": [
       "<div>\n",
       "<table border=\"1\" class=\"dataframe\">\n",
       "  <thead>\n",
       "    <tr style=\"text-align: right;\">\n",
       "      <th></th>\n",
       "      <th>year/make/model</th>\n",
       "      <th>price</th>\n",
       "      <th>engine</th>\n",
       "      <th>trans</th>\n",
       "      <th>trim</th>\n",
       "      <th>group</th>\n",
       "      <th>horsepower</th>\n",
       "      <th>mpg</th>\n",
       "    </tr>\n",
       "  </thead>\n",
       "  <tbody>\n",
       "    <tr>\n",
       "      <th>37</th>\n",
       "      <td>2018 BMW M5</td>\n",
       "      <td>$102,600</td>\n",
       "      <td>Engine: V8 Turbo 4.4 Liter</td>\n",
       "      <td>Steptronic 8 Speed Automatic with Manual Mode ...</td>\n",
       "      <td>Base Sedan</td>\n",
       "      <td>Luxury Performance Car</td>\n",
       "      <td>600@5700</td>\n",
       "      <td>NaN</td>\n",
       "    </tr>\n",
       "    <tr>\n",
       "      <th>61</th>\n",
       "      <td>2018 Cadillac ATS</td>\n",
       "      <td>$35,495</td>\n",
       "      <td>Engine: 4-Cyl Turbo 2.0 Liter Ecotec</td>\n",
       "      <td>Hydra-Matic 8 Speed Automatic Mode Select with...</td>\n",
       "      <td>2.0 RWD Sedan</td>\n",
       "      <td>Premium Compact Passenger Car</td>\n",
       "      <td>272@5500</td>\n",
       "      <td>NaN</td>\n",
       "    </tr>\n",
       "    <tr>\n",
       "      <th>73</th>\n",
       "      <td>2018 Chevrolet Volt</td>\n",
       "      <td>$33,220</td>\n",
       "      <td>Engine: 4-Cyl 1.5 Liter</td>\n",
       "      <td>Continuously Variable Automatic</td>\n",
       "      <td>LT Sedan</td>\n",
       "      <td>Passenger Car</td>\n",
       "      <td>149@5600</td>\n",
       "      <td>NaN</td>\n",
       "    </tr>\n",
       "    <tr>\n",
       "      <th>79</th>\n",
       "      <td>2018 Chevrolet Express</td>\n",
       "      <td>$31,295</td>\n",
       "      <td>Engine: V6 Flex Fuel 4.3 Liter</td>\n",
       "      <td>8 Speed Automatic Mode Select with Manual Mode...</td>\n",
       "      <td>2500 Cargo Van Regular</td>\n",
       "      <td>Cargo Van</td>\n",
       "      <td>276@5200</td>\n",
       "      <td>NaN</td>\n",
       "    </tr>\n",
       "    <tr>\n",
       "      <th>88</th>\n",
       "      <td>2018 Chrysler Pacifica Plug-in</td>\n",
       "      <td>$44,995</td>\n",
       "      <td>Engine: V6 3.6 Liter Pentastar™</td>\n",
       "      <td>eFlite EVT Continuously Variable Automatic (DFQ)</td>\n",
       "      <td>Limited</td>\n",
       "      <td>Minivan</td>\n",
       "      <td>248@5800</td>\n",
       "      <td>NaN</td>\n",
       "    </tr>\n",
       "    <tr>\n",
       "      <th>97</th>\n",
       "      <td>2018 FIAT 500</td>\n",
       "      <td>$16,245</td>\n",
       "      <td>Engine: 4-Cyl Turbo 1.4 Liter MultiAir</td>\n",
       "      <td>5 Speed Manual (C510)</td>\n",
       "      <td>Pop Hatchback</td>\n",
       "      <td>Sporty/Coupe</td>\n",
       "      <td>135@5500</td>\n",
       "      <td>NaN</td>\n",
       "    </tr>\n",
       "    <tr>\n",
       "      <th>113</th>\n",
       "      <td>2018 Ford Explorer</td>\n",
       "      <td>$32,140</td>\n",
       "      <td>Engine: V6 3.5 Liter</td>\n",
       "      <td>SelectShift 6 Speed Automatic Mode Select with...</td>\n",
       "      <td>Base 2WD</td>\n",
       "      <td>Full-Size Utility</td>\n",
       "      <td>290@6500</td>\n",
       "      <td>NaN</td>\n",
       "    </tr>\n",
       "    <tr>\n",
       "      <th>115</th>\n",
       "      <td>2018 Ford Focus</td>\n",
       "      <td>$17,950</td>\n",
       "      <td>Engine: 4-Cyl 2.0 Liter Duratec</td>\n",
       "      <td>5 Speed Manual (44Z)</td>\n",
       "      <td>S Sedan</td>\n",
       "      <td>Compact Passenger Car</td>\n",
       "      <td>160@6500</td>\n",
       "      <td>NaN</td>\n",
       "    </tr>\n",
       "    <tr>\n",
       "      <th>118</th>\n",
       "      <td>2018 Ford F-150</td>\n",
       "      <td>$27,705</td>\n",
       "      <td>Engine: V6 Flex Fuel 3.3 Liter</td>\n",
       "      <td>SelectShift® 6 Speed Automatic Mode Select wit...</td>\n",
       "      <td>XL 2WD Short Bed Regular Cab</td>\n",
       "      <td>Full-Size Pickup LD</td>\n",
       "      <td>290@6500</td>\n",
       "      <td>NaN</td>\n",
       "    </tr>\n",
       "    <tr>\n",
       "      <th>131</th>\n",
       "      <td>2018 Honda Clarity</td>\n",
       "      <td>$33,400</td>\n",
       "      <td>Engine: 4-Cyl 1.5 Liter</td>\n",
       "      <td>Continuously Variable Automatic</td>\n",
       "      <td>Plug-in Hybrid Sedan</td>\n",
       "      <td>Passenger Car</td>\n",
       "      <td>212@5500</td>\n",
       "      <td>NaN</td>\n",
       "    </tr>\n",
       "    <tr>\n",
       "      <th>166</th>\n",
       "      <td>2018 Karma Revero</td>\n",
       "      <td>$130,000</td>\n",
       "      <td>Engine: 4-Cyl Turbo 2.0 Liter Ecotec</td>\n",
       "      <td>1 Speed Automatic Mode Select</td>\n",
       "      <td>Base Sedan</td>\n",
       "      <td>Luxury Passenger Car</td>\n",
       "      <td>403@5300</td>\n",
       "      <td>NaN</td>\n",
       "    </tr>\n",
       "    <tr>\n",
       "      <th>246</th>\n",
       "      <td>2018 Nissan Titan XD</td>\n",
       "      <td>$42,490</td>\n",
       "      <td>Engine: V8 Turbo Diesel 5.0 Liter Cummins®</td>\n",
       "      <td>Aisin® 6 Speed Automatic with Manual Mode</td>\n",
       "      <td>S Diesel 2WD Crew Cab</td>\n",
       "      <td>Full-Size Pickup HD</td>\n",
       "      <td>310@3200</td>\n",
       "      <td>NaN</td>\n",
       "    </tr>\n",
       "    <tr>\n",
       "      <th>254</th>\n",
       "      <td>2018 Nissan NV</td>\n",
       "      <td>$28,850</td>\n",
       "      <td>Engine: V6 4.0 Liter</td>\n",
       "      <td>5 Speed Automatic</td>\n",
       "      <td>1500 S Cargo Van</td>\n",
       "      <td>Cargo Van</td>\n",
       "      <td>261@5600</td>\n",
       "      <td>NaN</td>\n",
       "    </tr>\n",
       "    <tr>\n",
       "      <th>264</th>\n",
       "      <td>2018 Ram 3500</td>\n",
       "      <td>$33,645</td>\n",
       "      <td>Engine: V8 5.7 Liter HEMI</td>\n",
       "      <td>6 Speed Automatic Mode Select with Manual Mode...</td>\n",
       "      <td>Tradesman 4WD DRW Regular Cab</td>\n",
       "      <td>Full-Size Pickup HD</td>\n",
       "      <td>383@5600</td>\n",
       "      <td>NaN</td>\n",
       "    </tr>\n",
       "    <tr>\n",
       "      <th>288</th>\n",
       "      <td>2018 Toyota Mirai</td>\n",
       "      <td>$58,365</td>\n",
       "      <td>Motor, Single Electric</td>\n",
       "      <td>1 Speed Automatic</td>\n",
       "      <td>Base Sedan</td>\n",
       "      <td>Passenger Car</td>\n",
       "      <td>153</td>\n",
       "      <td>NaN</td>\n",
       "    </tr>\n",
       "    <tr>\n",
       "      <th>305</th>\n",
       "      <td>2018 Toyota Prius Prime</td>\n",
       "      <td>$28,800</td>\n",
       "      <td>Engine: 4-Cyl 1.8 Liter</td>\n",
       "      <td>ECVT Continuously Variable Automatic Mode Sele...</td>\n",
       "      <td>Premium Hatchback</td>\n",
       "      <td>Passenger Car</td>\n",
       "      <td>121@5200</td>\n",
       "      <td>NaN</td>\n",
       "    </tr>\n",
       "  </tbody>\n",
       "</table>\n",
       "</div>"
      ],
      "text/plain": [
       "                    year/make/model      price  \\\n",
       "37                      2018 BMW M5  $102,600    \n",
       "61                2018 Cadillac ATS   $35,495    \n",
       "73              2018 Chevrolet Volt   $33,220    \n",
       "79           2018 Chevrolet Express   $31,295    \n",
       "88   2018 Chrysler Pacifica Plug-in   $44,995    \n",
       "97                    2018 FIAT 500   $16,245    \n",
       "113              2018 Ford Explorer   $32,140    \n",
       "115                 2018 Ford Focus   $17,950    \n",
       "118                 2018 Ford F-150   $27,705    \n",
       "131              2018 Honda Clarity   $33,400    \n",
       "166               2018 Karma Revero  $130,000    \n",
       "246            2018 Nissan Titan XD   $42,490    \n",
       "254                  2018 Nissan NV   $28,850    \n",
       "264                   2018 Ram 3500   $33,645    \n",
       "288               2018 Toyota Mirai   $58,365    \n",
       "305         2018 Toyota Prius Prime   $28,800    \n",
       "\n",
       "                                         engine  \\\n",
       "37                   Engine: V8 Turbo 4.4 Liter   \n",
       "61         Engine: 4-Cyl Turbo 2.0 Liter Ecotec   \n",
       "73                      Engine: 4-Cyl 1.5 Liter   \n",
       "79               Engine: V6 Flex Fuel 4.3 Liter   \n",
       "88              Engine: V6 3.6 Liter Pentastar™   \n",
       "97       Engine: 4-Cyl Turbo 1.4 Liter MultiAir   \n",
       "113                        Engine: V6 3.5 Liter   \n",
       "115             Engine: 4-Cyl 2.0 Liter Duratec   \n",
       "118              Engine: V6 Flex Fuel 3.3 Liter   \n",
       "131                     Engine: 4-Cyl 1.5 Liter   \n",
       "166        Engine: 4-Cyl Turbo 2.0 Liter Ecotec   \n",
       "246  Engine: V8 Turbo Diesel 5.0 Liter Cummins®   \n",
       "254                        Engine: V6 4.0 Liter   \n",
       "264                   Engine: V8 5.7 Liter HEMI   \n",
       "288                      Motor, Single Electric   \n",
       "305                     Engine: 4-Cyl 1.8 Liter   \n",
       "\n",
       "                                                 trans  \\\n",
       "37   Steptronic 8 Speed Automatic with Manual Mode ...   \n",
       "61   Hydra-Matic 8 Speed Automatic Mode Select with...   \n",
       "73                     Continuously Variable Automatic   \n",
       "79   8 Speed Automatic Mode Select with Manual Mode...   \n",
       "88    eFlite EVT Continuously Variable Automatic (DFQ)   \n",
       "97                               5 Speed Manual (C510)   \n",
       "113  SelectShift 6 Speed Automatic Mode Select with...   \n",
       "115                               5 Speed Manual (44Z)   \n",
       "118  SelectShift® 6 Speed Automatic Mode Select wit...   \n",
       "131                    Continuously Variable Automatic   \n",
       "166                      1 Speed Automatic Mode Select   \n",
       "246          Aisin® 6 Speed Automatic with Manual Mode   \n",
       "254                                  5 Speed Automatic   \n",
       "264  6 Speed Automatic Mode Select with Manual Mode...   \n",
       "288                                  1 Speed Automatic   \n",
       "305  ECVT Continuously Variable Automatic Mode Sele...   \n",
       "\n",
       "                              trim                          group horsepower  \\\n",
       "37                      Base Sedan         Luxury Performance Car   600@5700   \n",
       "61                   2.0 RWD Sedan  Premium Compact Passenger Car   272@5500   \n",
       "73                        LT Sedan                  Passenger Car   149@5600   \n",
       "79          2500 Cargo Van Regular                      Cargo Van   276@5200   \n",
       "88                         Limited                        Minivan   248@5800   \n",
       "97                   Pop Hatchback                   Sporty/Coupe   135@5500   \n",
       "113                       Base 2WD              Full-Size Utility   290@6500   \n",
       "115                        S Sedan          Compact Passenger Car   160@6500   \n",
       "118   XL 2WD Short Bed Regular Cab            Full-Size Pickup LD   290@6500   \n",
       "131           Plug-in Hybrid Sedan                  Passenger Car   212@5500   \n",
       "166                     Base Sedan           Luxury Passenger Car   403@5300   \n",
       "246          S Diesel 2WD Crew Cab            Full-Size Pickup HD   310@3200   \n",
       "254               1500 S Cargo Van                      Cargo Van   261@5600   \n",
       "264  Tradesman 4WD DRW Regular Cab            Full-Size Pickup HD   383@5600   \n",
       "288                     Base Sedan                  Passenger Car        153   \n",
       "305              Premium Hatchback                  Passenger Car   121@5200   \n",
       "\n",
       "     mpg  \n",
       "37   NaN  \n",
       "61   NaN  \n",
       "73   NaN  \n",
       "79   NaN  \n",
       "88   NaN  \n",
       "97   NaN  \n",
       "113  NaN  \n",
       "115  NaN  \n",
       "118  NaN  \n",
       "131  NaN  \n",
       "166  NaN  \n",
       "246  NaN  \n",
       "254  NaN  \n",
       "264  NaN  \n",
       "288  NaN  \n",
       "305  NaN  "
      ]
     },
     "execution_count": 37,
     "metadata": {},
     "output_type": "execute_result"
    }
   ],
   "source": [
    "df[df['mpg'].isnull()]"
   ]
  },
  {
   "cell_type": "markdown",
   "metadata": {},
   "source": [
    "While some of these cars use alternative fuels (Toyota Mirai, Honda Clarity, etc.), some are simply newer models without the proper figures listed on the Motor Trend page for those cars. I will use Google Search to impute the correct values for gasoline-powered cars and calculate mpg for alternative fuel cars using the rationale found here: <insert url once found>"
   ]
  },
  {
   "cell_type": "markdown",
   "metadata": {},
   "source": [
    "## Data Cleaning\n",
    "\n",
    "Many of the columns need to be cleaned up. \n",
    "\n",
    "Cleaning steps for this data:\n",
    "\n",
    "1. Split the year/make/model column to get `make` and `model` columns. Since I only scraped 2018 model year reviews, the year is irrelevant to this analysis.\n",
    "2. remove the symbols to make `price` numeric\n",
    "3. get the engine cylinders and displacement from `engine`\n",
    "4. convert transmission type to categorical (manual, automatic, CVT)\n",
    "5. collapse `group` to simpler categories\n",
    "6. remove RPM figures for horsepower to make `horsepower` numeric"
   ]
  },
  {
   "cell_type": "markdown",
   "metadata": {},
   "source": [
    "### 1. Split the year/make/model column to get `make` and `model` columns."
   ]
  },
  {
   "cell_type": "markdown",
   "metadata": {},
   "source": [
    "###  2. Remove the symbols to make `price` numeric"
   ]
  },
  {
   "cell_type": "code",
   "execution_count": 50,
   "metadata": {},
   "outputs": [],
   "source": [
    "df.price = df.price.map(lambda x: x.replace('$', '').replace(',', '').replace(' ', ''))"
   ]
  },
  {
   "cell_type": "markdown",
   "metadata": {},
   "source": [
    "### 3. get the engine cylinders and displacement from `engine`"
   ]
  },
  {
   "cell_type": "markdown",
   "metadata": {},
   "source": [
    "### 4. Convert `transmission` column to categorical with 3 categories (manual, auto, CVT)"
   ]
  },
  {
   "cell_type": "markdown",
   "metadata": {},
   "source": [
    "###  5. Collapse `group` to simpler categories"
   ]
  },
  {
   "cell_type": "markdown",
   "metadata": {},
   "source": [
    "###  6. Remove RPM figures to make `horsepower` numeric"
   ]
  }
 ],
 "metadata": {
  "kernelspec": {
   "display_name": "Python 3",
   "language": "python",
   "name": "python3"
  },
  "language_info": {
   "codemirror_mode": {
    "name": "ipython",
    "version": 3
   },
   "file_extension": ".py",
   "mimetype": "text/x-python",
   "name": "python",
   "nbconvert_exporter": "python",
   "pygments_lexer": "ipython3",
   "version": "3.6.2"
  }
 },
 "nbformat": 4,
 "nbformat_minor": 2
}
