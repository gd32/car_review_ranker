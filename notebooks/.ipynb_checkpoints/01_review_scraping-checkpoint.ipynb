{
 "cells": [
  {
   "cell_type": "markdown",
   "metadata": {},
   "source": [
    "# Review Text Scraping\n",
    "\n",
    "In this notebook, I use requests and BeautifulSoup to programmatically scrape page URLs, car statistics, and car reviews. I create a csv named `cars.csv` containing the car statistics and create text files containing the car reviews."
   ]
  },
  {
   "cell_type": "markdown",
   "metadata": {},
   "source": [
    "## Importing modules"
   ]
  },
  {
   "cell_type": "code",
   "execution_count": 2,
   "metadata": {},
   "outputs": [],
   "source": [
    "from requests import get\n",
    "import re\n",
    "import time\n",
    "import csv\n",
    "from bs4 import BeautifulSoup\n",
    "from more_itertools import unique_everseen"
   ]
  },
  {
   "cell_type": "markdown",
   "metadata": {},
   "source": [
    "## Getting Car Stats and Reviews from Motortrend"
   ]
  },
  {
   "cell_type": "code",
   "execution_count": 80,
   "metadata": {},
   "outputs": [],
   "source": [
    "response = get('http://www.motortrend.com/cars/')\n",
    "soup = BeautifulSoup(response.text, 'html.parser')\n",
    "make_urls = [item.a.attrs.get('href') for item in [item for item in soup.find_all('li', class_='item-container')] if 'cars' in item.a.attrs.get('href')]"
   ]
  },
  {
   "cell_type": "code",
   "execution_count": 17,
   "metadata": {},
   "outputs": [
    {
     "name": "stdout",
     "output_type": "stream",
     "text": [
      "CPU times: user 14.4 s, sys: 48 ms, total: 14.4 s\n",
      "Wall time: 1min 56s\n"
     ]
    }
   ],
   "source": [
    "%%time\n",
    "full_model_list = []\n",
    "for url in make_urls:\n",
    "    make = url\n",
    "    response = get(make)\n",
    "    soup = BeautifulSoup(response.text, 'html.parser')\n",
    "    model_list = []\n",
    "    for griditem in soup.find_all('section',  class_='browse-vehicle-results body-style-container hub-make'):\n",
    "        for item in griditem.find_all('a'):\n",
    "            model_list.append(item.attrs.get('href'))\n",
    "    time.sleep(0.5)\n",
    "    full_model_list.append(list(set(model_list)))"
   ]
  },
  {
   "cell_type": "markdown",
   "metadata": {},
   "source": [
    "**I'm only interested in reviews for cars from MY (Model Year) 2018, so I modify the model list urls as follows:**"
   ]
  },
  {
   "cell_type": "code",
   "execution_count": 338,
   "metadata": {},
   "outputs": [],
   "source": [
    "model_urls = [item+('2018') for sublist in full_model_list[:-18] for item in sublist]"
   ]
  },
  {
   "cell_type": "code",
   "execution_count": 534,
   "metadata": {},
   "outputs": [],
   "source": [
    "def car_scraper(urls):\n",
    "    \n",
    "    with open('../data/cars.csv', 'w', newline='') as csvfile:\n",
    "        writer = csv.writer(csvfile, delimiter=',',)\n",
    "        writer.writerow(['year/make/model', 'price', 'value', 'engine', 'trans', 'trim', 'group', 'horsepower', 'mpg'])\n",
    "                        \n",
    "        for url in urls:\n",
    "            yearmakemodel = []\n",
    "            specs = []\n",
    "            response = get(url)\n",
    "            soup = BeautifulSoup(response.text, 'html.parser')\n",
    "            for item in soup.find_all('h1', attrs={'itemprop': 'name'}): #get the car year, model, and make\n",
    "                yearmakemodel.append(item.text.replace('\\n','').replace('\\t', ''))\n",
    "            for item in soup.find_all('section', attrs={'id': 'overview'}): #get the specs\n",
    "                   for item in item.find_all('div', class_='value'):\n",
    "                        specs.append(item.text.replace('\\n', '').replace('\\t', ''))\n",
    "            writer.writerow(yearmakemodel + specs)\n",
    "            time.sleep(1)"
   ]
  },
  {
   "cell_type": "code",
   "execution_count": 536,
   "metadata": {},
   "outputs": [
    {
     "name": "stdout",
     "output_type": "stream",
     "text": [
      "CPU times: user 3min 16s, sys: 940 ms, total: 3min 17s\n",
      "Wall time: 20min 24s\n"
     ]
    }
   ],
   "source": [
    "%%time\n",
    "car_scraper(model_urls)"
   ]
  },
  {
   "cell_type": "code",
   "execution_count": 584,
   "metadata": {},
   "outputs": [],
   "source": [
    "def review_scraper(urls):\n",
    "    reviews = []\n",
    "    with open('../reviews/motortrend_reviews.txt', 'w', newline='') as file:\n",
    "        for url in urls:\n",
    "            response = get(url)\n",
    "            soup = BeautifulSoup(response.text, 'html.parser')\n",
    "            review_text=[]\n",
    "            #get the review text\n",
    "            for item in soup.find_all('div', class_='entry-content'):\n",
    "                for text in item.find_all('p'):\n",
    "                    file.write('\\n')\n",
    "                    file.write(str(text))\n",
    "                    file.write('\\n')\n",
    "            time.sleep(1)"
   ]
  },
  {
   "cell_type": "code",
   "execution_count": 586,
   "metadata": {},
   "outputs": [
    {
     "name": "stdout",
     "output_type": "stream",
     "text": [
      "CPU times: user 3min, sys: 840 ms, total: 3min\n",
      "Wall time: 17min 2s\n"
     ]
    }
   ],
   "source": [
    "%%time\n",
    "review_scraper(model_urls)"
   ]
  },
  {
   "cell_type": "markdown",
   "metadata": {},
   "source": [
    "##  Edmunds"
   ]
  },
  {
   "cell_type": "code",
   "execution_count": 588,
   "metadata": {},
   "outputs": [],
   "source": [
    "model = 'http://www.edmunds.com/acura'\n",
    "response = get(model)\n",
    "soup = BeautifulSoup(response.text, 'html.parser')"
   ]
  },
  {
   "cell_type": "code",
   "execution_count": 580,
   "metadata": {},
   "outputs": [],
   "source": [
    "edmunds_makes = [item.replace('http://www.motortrend.com/cars', 'http://www.edmunds.com') for item in make_urls]"
   ]
  },
  {
   "cell_type": "code",
   "execution_count": 605,
   "metadata": {},
   "outputs": [],
   "source": [
    "abc = [item.a.attrs.get('href') for item in soup.find_all('div', class_='card-container')]"
   ]
  },
  {
   "cell_type": "markdown",
   "metadata": {},
   "source": [
    "Scrape the model list from Edmunds and create the list `model_list`:"
   ]
  },
  {
   "cell_type": "code",
   "execution_count": 647,
   "metadata": {},
   "outputs": [],
   "source": [
    "model_list = []\n",
    "def model_scraper_edmunds(makes):   \n",
    "    for url in makes:\n",
    "        url = url\n",
    "        response = get(url)\n",
    "        soup = BeautifulSoup(response.text, 'html.parser')\n",
    "        for item in soup.find_all('div', class_='card-container'):\n",
    "            model_list.append(item.a.attrs.get('href'))\n",
    "    time.sleep(1)"
   ]
  },
  {
   "cell_type": "code",
   "execution_count": 648,
   "metadata": {},
   "outputs": [
    {
     "name": "stdout",
     "output_type": "stream",
     "text": [
      "CPU times: user 7.85 s, sys: 56 ms, total: 7.9 s\n",
      "Wall time: 31.5 s\n"
     ]
    }
   ],
   "source": [
    "%%time\n",
    "model_scraper_edmunds(edmunds_makes)"
   ]
  },
  {
   "cell_type": "markdown",
   "metadata": {},
   "source": [
    "Edmunds hosts their reviews in the format 'edmunds.com/make/model/year/review'; let's reformat our list to that so we can iterate through `model_list` and scrape reviews:"
   ]
  },
  {
   "cell_type": "code",
   "execution_count": 677,
   "metadata": {},
   "outputs": [],
   "source": [
    "sep = '/'\n",
    "\n",
    "cleaned_model_list = ['http://edmunds.com'+sep.join(x.split(sep)[:3])+'/2018/review' for x in model_list]"
   ]
  },
  {
   "cell_type": "code",
   "execution_count": 678,
   "metadata": {},
   "outputs": [],
   "source": [
    "review_list = list(unique_everseen(cleaned_model_list))"
   ]
  },
  {
   "cell_type": "code",
   "execution_count": 679,
   "metadata": {},
   "outputs": [
    {
     "data": {
      "text/plain": [
       "'http://edmunds.com/acura/ilx/2018/review'"
      ]
     },
     "execution_count": 679,
     "metadata": {},
     "output_type": "execute_result"
    }
   ],
   "source": [
    "review_list[0]"
   ]
  },
  {
   "cell_type": "code",
   "execution_count": 736,
   "metadata": {},
   "outputs": [],
   "source": [
    "def edmunds_review_scraper(urls):\n",
    "    reviews = []\n",
    "    with open('../reviews/edmunds_reviews.txt', 'w', newline='') as file:\n",
    "        for url in urls:\n",
    "            response = get(url)\n",
    "            soup = BeautifulSoup(response.text, 'html.parser')\n",
    "            review_text=[]\n",
    "            #get the review text\n",
    "            file.write(url)\n",
    "            for item in soup.find_all('div', class_='mb-1'):\n",
    "                if item.find_all('p') != []:\n",
    "                    file.write('\\n')\n",
    "                    file.write(str(item.find_all('p')))\n",
    "                    file.write('\\n')\n",
    "            file.write('---')\n",
    "            time.sleep(1)"
   ]
  },
  {
   "cell_type": "code",
   "execution_count": 737,
   "metadata": {
    "scrolled": true
   },
   "outputs": [
    {
     "name": "stdout",
     "output_type": "stream",
     "text": [
      "CPU times: user 42.4 s, sys: 340 ms, total: 42.7 s\n",
      "Wall time: 11min 12s\n"
     ]
    }
   ],
   "source": [
    "%%time\n",
    "edmunds_review_scraper(review_list)"
   ]
  },
  {
   "cell_type": "markdown",
   "metadata": {},
   "source": [
    "## NewCarTestDrive\n",
    "\n",
    "NewCarTestDrive (NCTD) doesn't have reviews for all the cars, but can still contribute to our recommender."
   ]
  },
  {
   "cell_type": "code",
   "execution_count": 726,
   "metadata": {},
   "outputs": [],
   "source": [
    "pages_to_scrape = ['http://www.newcartestdrive.com/reviews/year/2018/']\n",
    "pages_to_scrape = pages_to_scrape + ['http://www.newcartestdrive.com/reviews/year/2018/'+'page/'+str(i) for i in range(2,8,1)]"
   ]
  },
  {
   "cell_type": "code",
   "execution_count": 730,
   "metadata": {},
   "outputs": [],
   "source": [
    "nctd_reviews = []\n",
    "def nctd_review_urls(urls):\n",
    "    for url in urls: \n",
    "        response = get(url)\n",
    "        soup = BeautifulSoup(response.text, 'html.parser')\n",
    "        for item in soup.find_all('h2'):\n",
    "            nctd_reviews.append(item.a.attrs.get('href'))\n",
    "        time.sleep(1)"
   ]
  },
  {
   "cell_type": "code",
   "execution_count": 731,
   "metadata": {},
   "outputs": [],
   "source": [
    "nctd_review_urls(pages_to_scrape)"
   ]
  },
  {
   "cell_type": "code",
   "execution_count": 733,
   "metadata": {},
   "outputs": [
    {
     "data": {
      "text/plain": [
       "174"
      ]
     },
     "execution_count": 733,
     "metadata": {},
     "output_type": "execute_result"
    }
   ],
   "source": [
    "len(nctd_reviews)"
   ]
  },
  {
   "cell_type": "code",
   "execution_count": 741,
   "metadata": {},
   "outputs": [],
   "source": [
    "def nctd_review_scraper(urls):\n",
    "    with open('../reviews/nctd_reviews.txt', 'w', newline='') as file:\n",
    "        for url in urls:\n",
    "            response = get(url)\n",
    "            soup = BeautifulSoup(response.text, 'html.parser')\n",
    "            file.write(url)\n",
    "            file.write('\\n')\n",
    "            file.write(str(soup.find_all('p')))\n",
    "            file.write('\\n')\n",
    "            file.write('---------')\n",
    "            time.sleep(1)"
   ]
  },
  {
   "cell_type": "code",
   "execution_count": 743,
   "metadata": {},
   "outputs": [
    {
     "name": "stdout",
     "output_type": "stream",
     "text": [
      "CPU times: user 7.28 s, sys: 80 ms, total: 7.36 s\n",
      "Wall time: 4min 27s\n"
     ]
    }
   ],
   "source": [
    "%%time\n",
    "nctd_review_scraper(nctd_reviews)"
   ]
  },
  {
   "cell_type": "markdown",
   "metadata": {},
   "source": [
    "## Car Connection"
   ]
  },
  {
   "cell_type": "code",
   "execution_count": 763,
   "metadata": {},
   "outputs": [],
   "source": [
    "#get all the make pages\n",
    "makes = []\n",
    "url = 'https://www.thecarconnection.com/new-cars'\n",
    "response = get(url)\n",
    "soup = BeautifulSoup(response.text, 'html.parser')\n",
    "for item in soup.find_all('div', class_='content')[0].find_all('a', class_='add-zip'):\n",
    "    makes.append(item.attrs.get('href'))"
   ]
  },
  {
   "cell_type": "code",
   "execution_count": 765,
   "metadata": {},
   "outputs": [],
   "source": [
    "make_urls = ['http://www.thecarconnection.com'+suffix for suffix in makes]"
   ]
  },
  {
   "cell_type": "code",
   "execution_count": 795,
   "metadata": {},
   "outputs": [],
   "source": [
    "model_list = []\n",
    "def model_scraper_cc(makes):   \n",
    "    for url in makes:\n",
    "        url = url\n",
    "        response = get(url)\n",
    "        soup = BeautifulSoup(response.text, 'html.parser')\n",
    "        for item in soup.find_all('div', class_='name'):\n",
    "            model_list.append(item.a.attrs.get('href'))\n",
    "    time.sleep(1)"
   ]
  },
  {
   "cell_type": "code",
   "execution_count": 796,
   "metadata": {},
   "outputs": [],
   "source": [
    "model_scraper_cc(make_urls)"
   ]
  },
  {
   "cell_type": "code",
   "execution_count": 798,
   "metadata": {},
   "outputs": [],
   "source": [
    "review_urls = ['http://www.thecarconnection.com'+suffix for suffix in model_list]"
   ]
  },
  {
   "cell_type": "code",
   "execution_count": 822,
   "metadata": {},
   "outputs": [],
   "source": [
    "def cc_review_scraper(urls):\n",
    "    with open('../reviews/cc_reviews.txt', 'w', newline='') as file:\n",
    "        i=1\n",
    "        for url in urls:\n",
    "            start = time.time()\n",
    "            response = get(url)\n",
    "            soup = BeautifulSoup(response.text, 'html.parser')\n",
    "            for item in soup.find_all('div', id='expert-review'):\n",
    "                file.write(url)\n",
    "                file.write('\\n')\n",
    "                file.write(str(item.find_all('p')))\n",
    "                file.write('\\n')\n",
    "                file.write('--------------')\n",
    "                time.sleep(1)\n",
    "                print(f'Scraped review {i} in', time.time()-start)\n",
    "            i+=1\n",
    "        print(f'Scraped {i} reviews in total')"
   ]
  },
  {
   "cell_type": "code",
   "execution_count": 823,
   "metadata": {},
   "outputs": [
    {
     "name": "stdout",
     "output_type": "stream",
     "text": [
      "Scraped review 1 in 1.2414438724517822\n",
      "Scraped review 2 in 1.2473793029785156\n",
      "Scraped review 3 in 1.2539036273956299\n",
      "Scraped review 4 in 1.2398560047149658\n",
      "Scraped review 5 in 1.2841401100158691\n",
      "Scraped review 6 in 1.2349932193756104\n",
      "Scraped review 7 in 1.2350366115570068\n",
      "Scraped review 8 in 1.2282752990722656\n",
      "Scraped review 9 in 1.2344415187835693\n",
      "Scraped review 12 in 1.218871831893921\n",
      "Scraped review 13 in 1.252692461013794\n",
      "Scraped review 14 in 1.2804896831512451\n",
      "Scraped review 15 in 1.2494783401489258\n",
      "Scraped review 16 in 1.2521746158599854\n",
      "Scraped review 17 in 1.2688920497894287\n",
      "Scraped review 18 in 1.244976282119751\n",
      "Scraped review 19 in 1.2533769607543945\n",
      "Scraped review 20 in 1.2575037479400635\n",
      "Scraped review 21 in 1.2396979331970215\n",
      "Scraped review 22 in 1.2764084339141846\n",
      "Scraped review 24 in 1.2442049980163574\n",
      "Scraped review 25 in 1.2844531536102295\n",
      "Scraped review 26 in 1.2306618690490723\n",
      "Scraped review 27 in 2.5188000202178955\n",
      "Scraped review 28 in 1.9448268413543701\n",
      "Scraped review 30 in 1.2356781959533691\n",
      "Scraped review 32 in 1.2525696754455566\n",
      "Scraped review 33 in 1.4250741004943848\n",
      "Scraped review 141 in 1.2809879779815674\n",
      "Scraped review 142 in 1.2388570308685303\n",
      "Scraped review 143 in 1.4682645797729492\n",
      "Scraped review 144 in 1.2472600936889648\n",
      "Scraped review 145 in 1.2867281436920166\n",
      "Scraped review 146 in 1.2536723613739014\n",
      "Scraped review 147 in 1.8331756591796875\n",
      "Scraped review 148 in 1.4692234992980957\n",
      "Scraped review 149 in 1.9898808002471924\n",
      "Scraped review 150 in 1.4717485904693604\n",
      "Scraped review 151 in 1.2498629093170166\n",
      "Scraped review 152 in 1.2043273448944092\n",
      "Scraped review 153 in 1.2497363090515137\n",
      "Scraped review 154 in 1.2539489269256592\n",
      "Scraped review 155 in 1.4537713527679443\n",
      "Scraped review 156 in 1.5189597606658936\n",
      "Scraped review 157 in 1.4315087795257568\n",
      "Scraped review 159 in 1.2430706024169922\n",
      "Scraped review 160 in 1.2420403957366943\n",
      "Scraped review 161 in 1.4907004833221436\n",
      "Scraped review 163 in 2.4925856590270996\n",
      "Scraped review 172 in 1.2690362930297852\n",
      "Scraped review 173 in 1.3348979949951172\n",
      "Scraped review 174 in 1.2956805229187012\n",
      "Scraped review 175 in 1.2990410327911377\n",
      "Scraped review 176 in 1.5219082832336426\n",
      "Scraped review 177 in 1.2690486907958984\n",
      "Scraped review 178 in 1.670806884765625\n",
      "Scraped review 179 in 1.2410180568695068\n",
      "Scraped review 180 in 1.237401008605957\n",
      "Scraped review 184 in 1.2683515548706055\n",
      "Scraped review 185 in 1.2600834369659424\n",
      "Scraped review 186 in 1.2315952777862549\n",
      "Scraped review 187 in 1.268557071685791\n",
      "Scraped review 189 in 1.287257194519043\n",
      "Scraped review 190 in 1.2810025215148926\n",
      "Scraped review 191 in 1.273855447769165\n",
      "Scraped review 192 in 1.2556307315826416\n",
      "Scraped review 194 in 1.2737796306610107\n",
      "Scraped review 196 in 1.2502882480621338\n",
      "Scraped review 201 in 1.5530235767364502\n",
      "Scraped review 202 in 1.2211799621582031\n",
      "Scraped review 203 in 1.8777670860290527\n",
      "Scraped review 204 in 1.7887694835662842\n",
      "Scraped review 205 in 1.2756307125091553\n",
      "Scraped review 206 in 1.53773832321167\n",
      "Scraped review 207 in 1.2588295936584473\n",
      "Scraped review 208 in 1.2677891254425049\n",
      "Scraped review 209 in 1.7413809299468994\n",
      "Scraped review 210 in 1.4023985862731934\n",
      "Scraped review 211 in 9.172431707382202\n",
      "Scraped review 215 in 1.2377710342407227\n",
      "Scraped review 216 in 1.2472805976867676\n",
      "Scraped review 217 in 1.2407612800598145\n",
      "Scraped review 218 in 1.236741065979004\n",
      "Scraped review 219 in 1.4964125156402588\n",
      "Scraped review 220 in 1.245596170425415\n",
      "Scraped review 221 in 1.2647109031677246\n",
      "Scraped review 222 in 2.011861562728882\n",
      "Scraped review 227 in 1.2191035747528076\n",
      "Scraped review 228 in 1.237558364868164\n",
      "Scraped review 229 in 1.2287986278533936\n",
      "Scraped review 230 in 1.3028349876403809\n",
      "Scraped review 231 in 1.2357430458068848\n",
      "Scraped review 232 in 1.2577247619628906\n",
      "Scraped review 233 in 1.2578623294830322\n",
      "Scraped review 234 in 1.2478926181793213\n",
      "Scraped review 235 in 1.2445108890533447\n",
      "Scraped review 236 in 1.251619577407837\n",
      "Scraped review 238 in 1.2813353538513184\n",
      "Scraped review 239 in 1.2414281368255615\n",
      "Scraped review 240 in 1.2447044849395752\n",
      "Scraped review 243 in 1.2193846702575684\n",
      "Scraped review 244 in 1.236447811126709\n",
      "Scraped review 245 in 1.2585022449493408\n",
      "Scraped review 246 in 1.246140956878662\n",
      "Scraped review 247 in 1.2572789192199707\n",
      "Scraped review 248 in 1.250429391860962\n",
      "Scraped review 249 in 1.238090991973877\n",
      "Scraped review 250 in 1.2747762203216553\n",
      "Scraped review 251 in 1.244715690612793\n",
      "Scraped review 252 in 1.25191330909729\n",
      "Scraped review 253 in 1.2419188022613525\n",
      "Scraped review 254 in 1.2414116859436035\n",
      "Scraped review 255 in 1.2358224391937256\n",
      "Scraped review 260 in 1.4285039901733398\n",
      "Scraped review 261 in 1.4085495471954346\n",
      "Scraped review 262 in 1.249387502670288\n",
      "Scraped review 263 in 1.2453477382659912\n",
      "Scraped review 264 in 1.4909727573394775\n",
      "Scraped review 265 in 1.2542052268981934\n",
      "Scraped review 266 in 1.4857430458068848\n",
      "Scraped review 267 in 1.2437646389007568\n",
      "Scraped review 268 in 1.2290430068969727\n",
      "Scraped review 269 in 1.2583742141723633\n",
      "Scraped review 270 in 1.208824634552002\n",
      "Scraped review 272 in 1.2353875637054443\n",
      "Scraped review 273 in 1.6742279529571533\n",
      "Scraped review 274 in 1.526047945022583\n",
      "Scraped review 275 in 1.5469276905059814\n",
      "Scraped review 276 in 1.2383809089660645\n",
      "Scraped review 278 in 1.6471800804138184\n",
      "Scraped review 279 in 1.4750080108642578\n",
      "Scraped review 280 in 1.3081092834472656\n",
      "Scraped review 281 in 1.2632927894592285\n",
      "Scraped review 282 in 1.2910661697387695\n",
      "Scraped review 283 in 1.4245612621307373\n",
      "Scraped review 284 in 1.522596836090088\n",
      "Scraped review 285 in 1.2721211910247803\n",
      "Scraped review 286 in 1.613065242767334\n",
      "Scraped review 287 in 1.2987556457519531\n",
      "Scraped review 288 in 1.264453649520874\n",
      "Scraped review 290 in 1.2316017150878906\n",
      "Scraped review 291 in 1.2115061283111572\n",
      "Scraped review 292 in 1.234276533126831\n",
      "Scraped review 293 in 1.2353606224060059\n",
      "Scraped review 294 in 1.2420356273651123\n",
      "Scraped review 295 in 1.2838397026062012\n",
      "Scraped review 296 in 1.2420284748077393\n",
      "Scraped review 297 in 1.2396538257598877\n",
      "Scraped review 298 in 1.246347188949585\n",
      "Scraped review 299 in 1.44588303565979\n",
      "Scraped review 300 in 1.4442546367645264\n",
      "Scraped review 307 in 1.2564163208007812\n",
      "Scraped review 308 in 1.2459430694580078\n",
      "Scraped review 309 in 1.2477550506591797\n",
      "Scraped review 310 in 1.2449092864990234\n",
      "Scraped review 311 in 1.5088577270507812\n",
      "Scraped review 312 in 1.2606079578399658\n",
      "Scraped review 313 in 1.2461869716644287\n",
      "Scraped review 314 in 1.6874866485595703\n",
      "Scraped review 315 in 2.4209096431732178\n",
      "Scraped review 316 in 1.453223705291748\n",
      "Scraped review 317 in 1.5204849243164062\n",
      "Scraped review 318 in 1.233771800994873\n",
      "Scraped review 319 in 1.491342306137085\n",
      "Scraped review 320 in 1.2447376251220703\n",
      "Scraped review 321 in 1.4755871295928955\n",
      "Scraped review 323 in 1.233527660369873\n",
      "Scraped review 324 in 1.406813144683838\n",
      "Scraped review 329 in 1.243053913116455\n",
      "Scraped review 330 in 1.3310484886169434\n",
      "Scraped review 331 in 1.5004029273986816\n",
      "Scraped review 332 in 1.5369126796722412\n",
      "Scraped review 333 in 1.5199391841888428\n",
      "Scraped review 334 in 1.9102210998535156\n",
      "Scraped review 337 in 1.2344951629638672\n",
      "Scraped review 338 in 1.2544825077056885\n",
      "Scraped review 339 in 1.247739553451538\n",
      "Scraped review 340 in 1.1918933391571045\n",
      "Scraped review 341 in 1.2513561248779297\n",
      "Scraped review 342 in 1.2478668689727783\n",
      "Scraped review 343 in 1.3259685039520264\n",
      "Scraped review 344 in 1.2662136554718018\n",
      "Scraped review 345 in 2.2636940479278564\n",
      "Scraped review 346 in 1.3069872856140137\n",
      "Scraped review 347 in 1.4505555629730225\n",
      "Scraped review 348 in 1.239222526550293\n",
      "Scraped review 349 in 1.249077320098877\n",
      "Scraped review 350 in 1.2482638359069824\n",
      "Scraped review 351 in 1.2587363719940186\n",
      "Scraped review 352 in 1.2513830661773682\n",
      "Scraped review 353 in 1.2214605808258057\n",
      "Scraped review 354 in 1.2177865505218506\n",
      "Scraped review 355 in 1.4683778285980225\n",
      "Scraped review 358 in 1.2478587627410889\n",
      "Scraped review 359 in 1.2965724468231201\n",
      "Scraped review 360 in 1.2419557571411133\n",
      "Scraped review 361 in 1.4256761074066162\n",
      "Scraped review 362 in 1.3998887538909912\n",
      "Scraped review 365 in 1.696556568145752\n",
      "Scraped review 366 in 1.5072486400604248\n",
      "Scraped review 367 in 1.4247832298278809\n",
      "Scraped review 368 in 1.431159496307373\n"
     ]
    },
    {
     "name": "stdout",
     "output_type": "stream",
     "text": [
      "Scraped review 369 in 1.4741520881652832\n",
      "Scraped review 370 in 1.2252628803253174\n",
      "Scraped review 371 in 10.05290937423706\n",
      "Scraped review 373 in 1.2682194709777832\n",
      "Scraped review 375 in 1.2656400203704834\n",
      "Scraped review 376 in 1.2433512210845947\n",
      "Scraped review 377 in 1.480130910873413\n",
      "Scraped review 378 in 1.2424602508544922\n",
      "Scraped review 379 in 1.2239339351654053\n",
      "Scraped review 380 in 1.2444164752960205\n",
      "Scraped review 381 in 1.5001840591430664\n",
      "Scraped review 382 in 1.2449746131896973\n",
      "Scraped review 383 in 1.1959545612335205\n",
      "Scraped review 384 in 1.4305927753448486\n",
      "Scraped review 385 in 1.4214043617248535\n",
      "Scraped review 386 in 1.2649378776550293\n",
      "Scraped review 387 in 1.2516348361968994\n",
      "Scraped review 388 in 1.2276029586791992\n",
      "Scraped review 389 in 1.3233323097229004\n",
      "Scraped review 390 in 2.18259334564209\n",
      "Scraped review 391 in 1.2769136428833008\n",
      "Scraped review 392 in 1.262416124343872\n",
      "Scraped review 393 in 1.2981784343719482\n",
      "Scraped review 394 in 1.9397525787353516\n",
      "Scraped review 395 in 1.2648706436157227\n",
      "Scraped review 396 in 1.3370709419250488\n",
      "Scraped review 397 in 1.4137098789215088\n",
      "Scraped review 398 in 1.258866548538208\n",
      "Scraped review 400 in 1.2707080841064453\n",
      "Scraped review 401 in 1.220449686050415\n",
      "Scraped review 402 in 1.4754438400268555\n",
      "Scraped review 403 in 1.4247615337371826\n",
      "Scraped review 404 in 1.2809169292449951\n",
      "Scraped review 410 in 1.4423213005065918\n",
      "Scraped review 411 in 1.4393310546875\n",
      "Scraped review 412 in 1.4076926708221436\n",
      "Scraped review 413 in 1.2368290424346924\n",
      "Scraped review 414 in 1.5231525897979736\n",
      "Scraped review 416 in 1.2785212993621826\n",
      "Scraped review 417 in 1.51503586769104\n",
      "Scraped review 418 in 1.273280382156372\n",
      "Scraped review 420 in 1.4956884384155273\n",
      "Scraped review 424 in 1.5234825611114502\n",
      "Scraped review 425 in 1.6794524192810059\n",
      "Scraped review 426 in 1.2437100410461426\n",
      "Scraped review 427 in 1.469238042831421\n",
      "Scraped review 428 in 1.4896016120910645\n",
      "Scraped review 429 in 1.492305040359497\n",
      "Scraped review 430 in 1.546247959136963\n",
      "Scraped 432 reviews in total\n"
     ]
    }
   ],
   "source": [
    "cc_review_scraper(review_urls)"
   ]
  },
  {
   "cell_type": "markdown",
   "metadata": {},
   "source": [
    "## ConsumerReports"
   ]
  },
  {
   "cell_type": "code",
   "execution_count": 82,
   "metadata": {},
   "outputs": [
    {
     "data": {
      "text/plain": [
       "'http://www.motortrend.com/cars/acura/'"
      ]
     },
     "execution_count": 82,
     "metadata": {},
     "output_type": "execute_result"
    }
   ],
   "source": [
    "make_urls[0]"
   ]
  },
  {
   "cell_type": "code",
   "execution_count": 172,
   "metadata": {},
   "outputs": [],
   "source": [
    "cg_makes = []\n",
    "response = get('http://consumerguide.com/find-review/')\n",
    "soup = BeautifulSoup(response.text, 'html.parser')\n",
    "for item in soup.find_all('div', class_='vc_column-inner '):\n",
    "    for link in item.find_all('p'):\n",
    "        for url in link.find_all('a'):\n",
    "            cg_makes.append(url.attrs.get('href'))"
   ]
  },
  {
   "cell_type": "code",
   "execution_count": 177,
   "metadata": {},
   "outputs": [],
   "source": [
    "cg_review_list = []\n",
    "def cg_model_scrape(urls):\n",
    "    for url in urls:\n",
    "        response = get(url)\n",
    "        soup = BeautifulSoup(response.text, 'html.parser')\n",
    "        for item in soup.find_all('div', class_='mk-fancy-table table-style1 ')[0].find_all('td'):\n",
    "            if (re.findall('\\d+', str(item))[0] == '2018'):\n",
    "                cg_review_list.append(item.a.attrs.get('href'))\n",
    "            time.sleep(1)"
   ]
  },
  {
   "cell_type": "code",
   "execution_count": 179,
   "metadata": {
    "scrolled": true
   },
   "outputs": [
    {
     "name": "stdout",
     "output_type": "stream",
     "text": [
      "CPU times: user 1.82 s, sys: 16 ms, total: 1.83 s\n",
      "Wall time: 9min 33s\n"
     ]
    }
   ],
   "source": [
    "%%time\n",
    "cg_model_scrape(cg_makes)"
   ]
  },
  {
   "cell_type": "code",
   "execution_count": 189,
   "metadata": {},
   "outputs": [
    {
     "data": {
      "text/plain": [
       "['http://consumerguide.com/honda/hr-v/',\n",
       " 'http://consumerguide.com/honda/odyssey/',\n",
       " 'http://consumerguide.com/honda/pilot/',\n",
       " 'http://consumerguide.com/honda/ridgeline/',\n",
       " 'http://consumerguide.com/hyundai/accent/',\n",
       " 'http://consumerguide.com/hyundai/elantra/',\n",
       " 'http://consumerguide.com/hyundai/santa-fe/']"
      ]
     },
     "execution_count": 189,
     "metadata": {},
     "output_type": "execute_result"
    }
   ],
   "source": [
    "cg_review_list[63:70]"
   ]
  },
  {
   "cell_type": "code",
   "execution_count": 205,
   "metadata": {},
   "outputs": [],
   "source": [
    "def cg_review_scraper(urls):\n",
    "    with open('../reviews/cg_reviews.txt', 'w', newline='') as file:        \n",
    "        for i, url in enumerate(urls):\n",
    "            start = time.time()\n",
    "            response = get(url)\n",
    "            soup = BeautifulSoup(response.text, 'html.parser')\n",
    "            try:\n",
    "                for item in soup.find_all('div', id='text-block-4'):\n",
    "                    file.write(url)\n",
    "                    file.write('\\n')\n",
    "                    file.write(str(item.find_all('p')))\n",
    "                    file.write('\\n')\n",
    "                for item in soup.find_all('div', id='text-block-6'):\n",
    "                    file.write(str(item.find_all('p')))\n",
    "                    file.write('\\n')\n",
    "                    file.write('----------')\n",
    "                    time.sleep(2) \n",
    "                    print(f'Scraped review {i+1} in {time.time()-start} seconds')\n",
    "            except:\n",
    "                print(f'Scraping review {i+1} failed')\n",
    "        print(f'Scraped {i+1} reviews in total')\n",
    "        file.write(f'Scraped {i+1} reviews in total')"
   ]
  },
  {
   "cell_type": "code",
   "execution_count": 206,
   "metadata": {},
   "outputs": [
    {
     "name": "stdout",
     "output_type": "stream",
     "text": [
      "Scraped review 1 in 2.3886260986328125 seconds\n",
      "Scraped review 2 in 2.393385410308838 seconds\n",
      "Scraped review 3 in 2.38273024559021 seconds\n",
      "Scraped review 4 in 2.353861093521118 seconds\n",
      "Scraped review 5 in 2.3817076683044434 seconds\n",
      "Scraped review 6 in 2.3827719688415527 seconds\n",
      "Scraped review 7 in 2.3845462799072266 seconds\n",
      "Scraped review 8 in 2.391955614089966 seconds\n",
      "Scraped review 9 in 2.382988691329956 seconds\n",
      "Scraped review 10 in 2.5116965770721436 seconds\n",
      "Scraped review 11 in 2.39180588722229 seconds\n",
      "Scraped review 12 in 2.3909687995910645 seconds\n",
      "Scraped review 13 in 2.391101121902466 seconds\n",
      "Scraped review 14 in 2.3909647464752197 seconds\n",
      "Scraped review 15 in 2.3813881874084473 seconds\n",
      "Scraped review 16 in 2.390390634536743 seconds\n",
      "Scraped review 17 in 2.7104151248931885 seconds\n",
      "Scraped review 18 in 2.3817732334136963 seconds\n",
      "Scraped review 19 in 2.3788275718688965 seconds\n",
      "Scraped review 20 in 2.425126552581787 seconds\n",
      "Scraped review 21 in 2.329712152481079 seconds\n",
      "Scraped review 22 in 2.384782552719116 seconds\n",
      "Scraped review 23 in 2.7669546604156494 seconds\n",
      "Scraped review 24 in 2.388556957244873 seconds\n",
      "Scraped review 25 in 2.378720760345459 seconds\n",
      "Scraped review 26 in 2.391484498977661 seconds\n",
      "Scraped review 27 in 2.385986328125 seconds\n",
      "Scraped review 28 in 2.513906240463257 seconds\n",
      "Scraped review 29 in 2.378620147705078 seconds\n",
      "Scraped review 30 in 2.3846662044525146 seconds\n",
      "Scraped review 31 in 2.3234524726867676 seconds\n",
      "Scraped review 32 in 2.3968212604522705 seconds\n",
      "Scraped review 33 in 2.3824028968811035 seconds\n",
      "Scraped review 34 in 2.3264739513397217 seconds\n",
      "Scraped review 35 in 2.3789148330688477 seconds\n",
      "Scraped review 36 in 2.3870298862457275 seconds\n",
      "Scraped review 37 in 2.391134738922119 seconds\n",
      "Scraped review 38 in 2.389289617538452 seconds\n",
      "Scraped review 39 in 2.375356912612915 seconds\n",
      "Scraped review 40 in 2.329796075820923 seconds\n",
      "Scraped review 41 in 2.377892017364502 seconds\n",
      "Scraped review 42 in 3.6904044151306152 seconds\n",
      "Scraped review 43 in 2.3804991245269775 seconds\n",
      "Scraped review 44 in 2.3984296321868896 seconds\n",
      "Scraped review 45 in 2.3849141597747803 seconds\n",
      "Scraped review 46 in 2.4443485736846924 seconds\n",
      "Scraped review 47 in 2.3813014030456543 seconds\n",
      "Scraped review 48 in 2.385706663131714 seconds\n",
      "Scraped review 49 in 2.3908891677856445 seconds\n",
      "Scraped review 50 in 2.3143322467803955 seconds\n",
      "Scraped review 51 in 2.3851702213287354 seconds\n",
      "Scraped review 52 in 2.390352249145508 seconds\n",
      "Scraped review 53 in 2.3769028186798096 seconds\n",
      "Scraped review 54 in 2.3817758560180664 seconds\n",
      "Scraped review 55 in 2.3909201622009277 seconds\n",
      "Scraped review 56 in 2.3882291316986084 seconds\n",
      "Scraped review 57 in 2.388357400894165 seconds\n",
      "Scraped review 58 in 2.3900983333587646 seconds\n",
      "Scraped review 59 in 2.4112892150878906 seconds\n",
      "Scraped review 60 in 2.386854410171509 seconds\n",
      "Scraped review 61 in 2.394852638244629 seconds\n",
      "Scraped review 62 in 2.3248090744018555 seconds\n",
      "Scraped review 63 in 2.450615406036377 seconds\n",
      "Scraped review 64 in 2.3264057636260986 seconds\n",
      "Scraped review 65 in 2.4067890644073486 seconds\n",
      "Scraped review 66 in 2.3830442428588867 seconds\n",
      "Scraped review 67 in 2.3781824111938477 seconds\n",
      "Scraped review 68 in 2.381381034851074 seconds\n",
      "Scraped review 69 in 2.3905630111694336 seconds\n",
      "Scraped review 70 in 2.394951105117798 seconds\n",
      "Scraped review 71 in 2.390653133392334 seconds\n",
      "Scraped review 72 in 2.396780014038086 seconds\n",
      "Scraped review 73 in 2.377779006958008 seconds\n",
      "Scraped review 74 in 2.3995494842529297 seconds\n",
      "Scraped review 75 in 2.383622169494629 seconds\n",
      "Scraped review 76 in 2.4006638526916504 seconds\n",
      "Scraped review 77 in 2.388592004776001 seconds\n",
      "Scraped review 78 in 2.3808016777038574 seconds\n",
      "Scraped review 79 in 2.3891799449920654 seconds\n",
      "Scraped review 80 in 2.3905718326568604 seconds\n",
      "Scraped review 81 in 2.5126731395721436 seconds\n",
      "Scraped review 82 in 2.3835887908935547 seconds\n",
      "Scraped review 83 in 2.315971612930298 seconds\n",
      "Scraped review 84 in 2.376889944076538 seconds\n",
      "Scraped review 85 in 3.6044790744781494 seconds\n",
      "Scraped review 86 in 2.3925037384033203 seconds\n",
      "Scraped review 87 in 2.3863823413848877 seconds\n",
      "Scraped review 88 in 2.377200126647949 seconds\n",
      "Scraped review 89 in 2.3870112895965576 seconds\n",
      "Scraped review 90 in 2.38354229927063 seconds\n",
      "Scraped review 91 in 2.3875179290771484 seconds\n",
      "Scraped review 92 in 2.3351967334747314 seconds\n",
      "Scraped review 93 in 2.3928444385528564 seconds\n",
      "Scraped review 94 in 2.38258695602417 seconds\n",
      "Scraped review 95 in 2.390044927597046 seconds\n",
      "Scraped review 96 in 2.3849611282348633 seconds\n",
      "Scraped review 97 in 2.375800132751465 seconds\n",
      "Scraped review 98 in 2.3918168544769287 seconds\n",
      "Scraped review 99 in 2.3900694847106934 seconds\n",
      "Scraped review 100 in 2.3834707736968994 seconds\n",
      "Scraped review 101 in 2.39326548576355 seconds\n",
      "Scraped review 102 in 2.385350227355957 seconds\n",
      "Scraped review 103 in 2.3850505352020264 seconds\n",
      "Scraped review 104 in 2.3906965255737305 seconds\n",
      "Scraped review 105 in 2.3754870891571045 seconds\n",
      "Scraped review 106 in 2.380380868911743 seconds\n",
      "Scraped review 107 in 2.391491174697876 seconds\n",
      "Scraped review 108 in 2.380627393722534 seconds\n",
      "Scraped review 109 in 2.391010046005249 seconds\n",
      "Scraped review 110 in 2.3830156326293945 seconds\n",
      "Scraped review 111 in 2.4687612056732178 seconds\n",
      "Scraped review 112 in 2.386159658432007 seconds\n",
      "Scraped review 113 in 2.3811895847320557 seconds\n",
      "Scraped review 114 in 2.394040107727051 seconds\n",
      "Scraped review 115 in 2.391045331954956 seconds\n",
      "Scraped review 116 in 2.502655506134033 seconds\n",
      "Scraped review 117 in 2.3218579292297363 seconds\n",
      "Scraped review 118 in 2.390287160873413 seconds\n",
      "Scraped review 119 in 2.395145893096924 seconds\n",
      "Scraped review 120 in 2.3233084678649902 seconds\n",
      "Scraped review 121 in 2.3781299591064453 seconds\n",
      "Scraped review 122 in 2.381324291229248 seconds\n",
      "Scraped review 123 in 2.387615442276001 seconds\n",
      "Scraped review 124 in 2.380053997039795 seconds\n",
      "Scraped review 125 in 2.386138677597046 seconds\n",
      "Scraped review 126 in 2.379464626312256 seconds\n",
      "Scraped review 127 in 2.376570224761963 seconds\n",
      "Scraped review 128 in 3.1233620643615723 seconds\n",
      "Scraped review 129 in 3.130899667739868 seconds\n",
      "Scraped review 130 in 2.38070011138916 seconds\n",
      "Scraped review 131 in 3.139030933380127 seconds\n",
      "Scraped review 132 in 3.099738597869873 seconds\n",
      "Scraped review 133 in 3.2401821613311768 seconds\n",
      "Scraped review 134 in 3.273711919784546 seconds\n",
      "Scraped review 135 in 3.362856864929199 seconds\n",
      "Scraped review 136 in 3.368151903152466 seconds\n",
      "Scraped review 137 in 3.137026309967041 seconds\n",
      "Scraped review 138 in 3.11897611618042 seconds\n",
      "Scraped review 139 in 3.397998332977295 seconds\n",
      "Scraped review 140 in 4.813758850097656 seconds\n",
      "Scraped review 141 in 3.02101993560791 seconds\n",
      "Scraped review 142 in 3.121065378189087 seconds\n",
      "Scraped review 143 in 3.2306816577911377 seconds\n",
      "Scraped review 144 in 3.2644052505493164 seconds\n",
      "Scraped review 145 in 3.242710828781128 seconds\n",
      "Scraped review 146 in 3.124276876449585 seconds\n",
      "Scraped review 147 in 3.1183433532714844 seconds\n",
      "Scraped review 148 in 3.140563726425171 seconds\n",
      "Scraped review 149 in 3.141566276550293 seconds\n",
      "Scraped review 150 in 3.261349678039551 seconds\n",
      "Scraped review 158 in 2.3917505741119385 seconds\n",
      "Scraped 171 reviews in total\n"
     ]
    }
   ],
   "source": [
    "cg_review_scraper(cg_review_list)"
   ]
  },
  {
   "cell_type": "code",
   "execution_count": 208,
   "metadata": {},
   "outputs": [
    {
     "name": "stdout",
     "output_type": "stream",
     "text": [
      "Scraped review 1 in 3.225029230117798 seconds\n",
      "Scraped review 2 in 3.2617709636688232 seconds\n",
      "Scraped review 3 in 3.122955560684204 seconds\n",
      "Scraped review 4 in 3.21842098236084 seconds\n",
      "Scraped review 5 in 3.2574336528778076 seconds\n",
      "Scraped review 6 in 3.1450846195220947 seconds\n",
      "Scraped review 7 in 3.22688627243042 seconds\n",
      "Scraped review 8 in 2.39076828956604 seconds\n",
      "Scraped review 9 in 3.223116636276245 seconds\n",
      "Scraped review 10 in 3.1028568744659424 seconds\n",
      "Scraped review 11 in 3.1718270778656006 seconds\n",
      "Scraped review 12 in 3.4250197410583496 seconds\n",
      "Scraped review 13 in 3.1751487255096436 seconds\n",
      "Scraped review 14 in 5.9352946281433105 seconds\n",
      "Scraped review 15 in 3.152092218399048 seconds\n",
      "Scraped review 16 in 3.1108949184417725 seconds\n",
      "Scraped review 17 in 3.1898841857910156 seconds\n",
      "Scraped review 18 in 3.3364851474761963 seconds\n",
      "Scraped review 19 in 3.164276361465454 seconds\n"
     ]
    }
   ],
   "source": [
    "with open('../reviews/cg_reviews.txt', 'a+', newline='') as file:        \n",
    "    for i, url in enumerate(cg_review_list[150:]):\n",
    "        start = time.time()\n",
    "        response = get(url)\n",
    "        soup = BeautifulSoup(response.text, 'html.parser')\n",
    "        for item in soup.find_all('div', id='text-block-4'):\n",
    "            file.write(url)\n",
    "            file.write('\\n')\n",
    "            file.write(str(item.find_all('p')))\n",
    "            file.write('\\n')\n",
    "        for item in soup.find_all('div', id='text-block-6'):\n",
    "            file.write(str(item.find_all('p')))\n",
    "            file.write('\\n')\n",
    "            file.write('----------')\n",
    "            time.sleep(2) \n",
    "            print(f'Scraped review {i+1} in {time.time()-start} seconds')"
   ]
  },
  {
   "cell_type": "markdown",
   "metadata": {},
   "source": [
    "## Kelley Blue Book"
   ]
  },
  {
   "cell_type": "code",
   "execution_count": null,
   "metadata": {},
   "outputs": [],
   "source": []
  }
 ],
 "metadata": {
  "kernelspec": {
   "display_name": "Python 3",
   "language": "python",
   "name": "python3"
  },
  "language_info": {
   "codemirror_mode": {
    "name": "ipython",
    "version": 3
   },
   "file_extension": ".py",
   "mimetype": "text/x-python",
   "name": "python",
   "nbconvert_exporter": "python",
   "pygments_lexer": "ipython3",
   "version": "3.6.2"
  }
 },
 "nbformat": 4,
 "nbformat_minor": 2
}
