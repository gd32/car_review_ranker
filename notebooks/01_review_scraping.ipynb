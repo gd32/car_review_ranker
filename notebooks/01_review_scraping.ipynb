{
 "cells": [
  {
   "cell_type": "markdown",
   "metadata": {},
   "source": [
    "# Review Text Scraping\n",
    "\n",
    "In this notebook, I use requests and BeautifulSoup to programmatically scrape page URLs, car statistics, and car reviews. I create a csv named `cars.csv` containing the car statistics and create text files containing the car reviews."
   ]
  },
  {
   "cell_type": "markdown",
   "metadata": {},
   "source": [
    "## Importing modules"
   ]
  },
  {
   "cell_type": "code",
   "execution_count": 1,
   "metadata": {},
   "outputs": [],
   "source": [
    "from requests import get\n",
    "import re\n",
    "import time\n",
    "import csv\n",
    "from bs4 import BeautifulSoup\n",
    "from more_itertools import unique_everseen"
   ]
  },
  {
   "cell_type": "markdown",
   "metadata": {},
   "source": [
    "## Getting Car Stats and Reviews from Motortrend"
   ]
  },
  {
   "cell_type": "code",
   "execution_count": 80,
   "metadata": {},
   "outputs": [],
   "source": [
    "response = get('http://www.motortrend.com/cars/')\n",
    "soup = BeautifulSoup(response.text, 'html.parser')\n",
    "make_urls = [item.a.attrs.get('href') for item in [item for item in soup.find_all('li', class_='item-container')] if 'cars' in item.a.attrs.get('href')]"
   ]
  },
  {
   "cell_type": "code",
   "execution_count": 17,
   "metadata": {},
   "outputs": [
    {
     "name": "stdout",
     "output_type": "stream",
     "text": [
      "CPU times: user 14.4 s, sys: 48 ms, total: 14.4 s\n",
      "Wall time: 1min 56s\n"
     ]
    }
   ],
   "source": [
    "%%time\n",
    "full_model_list = []\n",
    "for url in make_urls:\n",
    "    make = url\n",
    "    response = get(make)\n",
    "    soup = BeautifulSoup(response.text, 'html.parser')\n",
    "    model_list = []\n",
    "    for griditem in soup.find_all('section',  class_='browse-vehicle-results body-style-container hub-make'):\n",
    "        for item in griditem.find_all('a'):\n",
    "            model_list.append(item.attrs.get('href'))\n",
    "    time.sleep(0.5)\n",
    "    full_model_list.append(list(set(model_list)))"
   ]
  },
  {
   "cell_type": "markdown",
   "metadata": {},
   "source": [
    "**I'm only interested in reviews for cars from MY (Model Year) 2018, so I modify the model list urls as follows:**"
   ]
  },
  {
   "cell_type": "code",
   "execution_count": 338,
   "metadata": {},
   "outputs": [],
   "source": [
    "model_urls = [item+('2018') for sublist in full_model_list[:-18] for item in sublist]"
   ]
  },
  {
   "cell_type": "code",
   "execution_count": 534,
   "metadata": {},
   "outputs": [],
   "source": [
    "def car_scraper(urls):\n",
    "    \n",
    "    with open('../data/cars.csv', 'w', newline='') as csvfile:\n",
    "        writer = csv.writer(csvfile, delimiter=',',)\n",
    "        writer.writerow(['year/make/model', 'price', 'value', 'engine', 'trans', 'trim', 'group', 'horsepower', 'mpg'])\n",
    "                        \n",
    "        for url in urls:\n",
    "            yearmakemodel = []\n",
    "            specs = []\n",
    "            response = get(url)\n",
    "            soup = BeautifulSoup(response.text, 'html.parser')\n",
    "            for item in soup.find_all('h1', attrs={'itemprop': 'name'}): #get the car year, model, and make\n",
    "                yearmakemodel.append(item.text.replace('\\n','').replace('\\t', ''))\n",
    "            for item in soup.find_all('section', attrs={'id': 'overview'}): #get the specs\n",
    "                   for item in item.find_all('div', class_='value'):\n",
    "                        specs.append(item.text.replace('\\n', '').replace('\\t', ''))\n",
    "            writer.writerow(yearmakemodel + specs)\n",
    "            time.sleep(1)"
   ]
  },
  {
   "cell_type": "code",
   "execution_count": 536,
   "metadata": {},
   "outputs": [
    {
     "name": "stdout",
     "output_type": "stream",
     "text": [
      "CPU times: user 3min 16s, sys: 940 ms, total: 3min 17s\n",
      "Wall time: 20min 24s\n"
     ]
    }
   ],
   "source": [
    "%%time\n",
    "car_scraper(model_urls)"
   ]
  },
  {
   "cell_type": "code",
   "execution_count": 584,
   "metadata": {},
   "outputs": [],
   "source": [
    "def review_scraper(urls):\n",
    "    reviews = []\n",
    "    with open('../reviews/motortrend_reviews.txt', 'w', newline='') as file:\n",
    "        for url in urls:\n",
    "            response = get(url)\n",
    "            soup = BeautifulSoup(response.text, 'html.parser')\n",
    "            review_text=[]\n",
    "            #get the review text\n",
    "            for item in soup.find_all('div', class_='entry-content'):\n",
    "                for text in item.find_all('p'):\n",
    "                    file.write('\\n')\n",
    "                    file.write(str(text))\n",
    "                    file.write('\\n')\n",
    "            time.sleep(1)"
   ]
  },
  {
   "cell_type": "code",
   "execution_count": 586,
   "metadata": {},
   "outputs": [
    {
     "name": "stdout",
     "output_type": "stream",
     "text": [
      "CPU times: user 3min, sys: 840 ms, total: 3min\n",
      "Wall time: 17min 2s\n"
     ]
    }
   ],
   "source": [
    "%%time\n",
    "review_scraper(model_urls)"
   ]
  },
  {
   "cell_type": "markdown",
   "metadata": {},
   "source": [
    "##  Edmunds"
   ]
  },
  {
   "cell_type": "code",
   "execution_count": 588,
   "metadata": {},
   "outputs": [],
   "source": [
    "model = 'http://www.edmunds.com/acura'\n",
    "response = get(model)\n",
    "soup = BeautifulSoup(response.text, 'html.parser')"
   ]
  },
  {
   "cell_type": "code",
   "execution_count": 580,
   "metadata": {},
   "outputs": [],
   "source": [
    "edmunds_makes = [item.replace('http://www.motortrend.com/cars', 'http://www.edmunds.com') for item in make_urls]"
   ]
  },
  {
   "cell_type": "code",
   "execution_count": 605,
   "metadata": {},
   "outputs": [],
   "source": [
    "abc = [item.a.attrs.get('href') for item in soup.find_all('div', class_='card-container')]"
   ]
  },
  {
   "cell_type": "markdown",
   "metadata": {},
   "source": [
    "Scrape the model list from Edmunds and create the list `model_list`:"
   ]
  },
  {
   "cell_type": "code",
   "execution_count": 647,
   "metadata": {},
   "outputs": [],
   "source": [
    "model_list = []\n",
    "def model_scraper_edmunds(makes):   \n",
    "    for url in makes:\n",
    "        url = url\n",
    "        response = get(url)\n",
    "        soup = BeautifulSoup(response.text, 'html.parser')\n",
    "        for item in soup.find_all('div', class_='card-container'):\n",
    "            model_list.append(item.a.attrs.get('href'))\n",
    "    time.sleep(1)"
   ]
  },
  {
   "cell_type": "code",
   "execution_count": 648,
   "metadata": {},
   "outputs": [
    {
     "name": "stdout",
     "output_type": "stream",
     "text": [
      "CPU times: user 7.85 s, sys: 56 ms, total: 7.9 s\n",
      "Wall time: 31.5 s\n"
     ]
    }
   ],
   "source": [
    "%%time\n",
    "model_scraper_edmunds(edmunds_makes)"
   ]
  },
  {
   "cell_type": "markdown",
   "metadata": {},
   "source": [
    "Edmunds hosts their reviews in the format 'edmunds.com/make/model/year/review'; let's reformat our list to that so we can iterate through `model_list` and scrape reviews:"
   ]
  },
  {
   "cell_type": "code",
   "execution_count": 677,
   "metadata": {},
   "outputs": [],
   "source": [
    "sep = '/'\n",
    "\n",
    "cleaned_model_list = ['http://edmunds.com'+sep.join(x.split(sep)[:3])+'/2018/review' for x in model_list]"
   ]
  },
  {
   "cell_type": "code",
   "execution_count": 678,
   "metadata": {},
   "outputs": [],
   "source": [
    "review_list = list(unique_everseen(cleaned_model_list))"
   ]
  },
  {
   "cell_type": "code",
   "execution_count": 679,
   "metadata": {},
   "outputs": [
    {
     "data": {
      "text/plain": [
       "'http://edmunds.com/acura/ilx/2018/review'"
      ]
     },
     "execution_count": 679,
     "metadata": {},
     "output_type": "execute_result"
    }
   ],
   "source": [
    "review_list[0]"
   ]
  },
  {
   "cell_type": "code",
   "execution_count": 736,
   "metadata": {},
   "outputs": [],
   "source": [
    "def edmunds_review_scraper(urls):\n",
    "    reviews = []\n",
    "    with open('../reviews/edmunds_reviews.txt', 'w', newline='') as file:\n",
    "        for url in urls:\n",
    "            response = get(url)\n",
    "            soup = BeautifulSoup(response.text, 'html.parser')\n",
    "            review_text=[]\n",
    "            #get the review text\n",
    "            file.write(url)\n",
    "            for item in soup.find_all('div', class_='mb-1'):\n",
    "                if item.find_all('p') != []:\n",
    "                    file.write('\\n')\n",
    "                    file.write(str(item.find_all('p')))\n",
    "                    file.write('\\n')\n",
    "            file.write('---')\n",
    "            time.sleep(1)"
   ]
  },
  {
   "cell_type": "code",
   "execution_count": 737,
   "metadata": {
    "scrolled": true
   },
   "outputs": [
    {
     "name": "stdout",
     "output_type": "stream",
     "text": [
      "CPU times: user 42.4 s, sys: 340 ms, total: 42.7 s\n",
      "Wall time: 11min 12s\n"
     ]
    }
   ],
   "source": [
    "%%time\n",
    "edmunds_review_scraper(review_list)"
   ]
  },
  {
   "cell_type": "markdown",
   "metadata": {},
   "source": [
    "## NewCarTestDrive\n",
    "\n",
    "NewCarTestDrive (NCTD) doesn't have reviews for all the cars, but can still contribute to our recommender."
   ]
  },
  {
   "cell_type": "code",
   "execution_count": 726,
   "metadata": {},
   "outputs": [],
   "source": [
    "pages_to_scrape = ['http://www.newcartestdrive.com/reviews/year/2018/']\n",
    "pages_to_scrape = pages_to_scrape + ['http://www.newcartestdrive.com/reviews/year/2018/'+'page/'+str(i) for i in range(2,8,1)]"
   ]
  },
  {
   "cell_type": "code",
   "execution_count": 730,
   "metadata": {},
   "outputs": [],
   "source": [
    "nctd_reviews = []\n",
    "def nctd_review_urls(urls):\n",
    "    for url in urls: \n",
    "        response = get(url)\n",
    "        soup = BeautifulSoup(response.text, 'html.parser')\n",
    "        for item in soup.find_all('h2'):\n",
    "            nctd_reviews.append(item.a.attrs.get('href'))\n",
    "        time.sleep(1)"
   ]
  },
  {
   "cell_type": "code",
   "execution_count": 731,
   "metadata": {},
   "outputs": [],
   "source": [
    "nctd_review_urls(pages_to_scrape)"
   ]
  },
  {
   "cell_type": "code",
   "execution_count": 733,
   "metadata": {},
   "outputs": [
    {
     "data": {
      "text/plain": [
       "174"
      ]
     },
     "execution_count": 733,
     "metadata": {},
     "output_type": "execute_result"
    }
   ],
   "source": [
    "len(nctd_reviews)"
   ]
  },
  {
   "cell_type": "code",
   "execution_count": 741,
   "metadata": {},
   "outputs": [],
   "source": [
    "def nctd_review_scraper(urls):\n",
    "    with open('../reviews/nctd_reviews.txt', 'w', newline='') as file:\n",
    "        for url in urls:\n",
    "            response = get(url)\n",
    "            soup = BeautifulSoup(response.text, 'html.parser')\n",
    "            file.write(url)\n",
    "            file.write('\\n')\n",
    "            file.write(str(soup.find_all('p')))\n",
    "            file.write('\\n')\n",
    "            file.write('---------')\n",
    "            time.sleep(1)"
   ]
  },
  {
   "cell_type": "code",
   "execution_count": 743,
   "metadata": {},
   "outputs": [
    {
     "name": "stdout",
     "output_type": "stream",
     "text": [
      "CPU times: user 7.28 s, sys: 80 ms, total: 7.36 s\n",
      "Wall time: 4min 27s\n"
     ]
    }
   ],
   "source": [
    "%%time\n",
    "nctd_review_scraper(nctd_reviews)"
   ]
  },
  {
   "cell_type": "markdown",
   "metadata": {},
   "source": [
    "## Car Connection"
   ]
  },
  {
   "cell_type": "code",
   "execution_count": 763,
   "metadata": {},
   "outputs": [],
   "source": [
    "#get all the make pages\n",
    "makes = []\n",
    "url = 'https://www.thecarconnection.com/new-cars'\n",
    "response = get(url)\n",
    "soup = BeautifulSoup(response.text, 'html.parser')\n",
    "for item in soup.find_all('div', class_='content')[0].find_all('a', class_='add-zip'):\n",
    "    makes.append(item.attrs.get('href'))"
   ]
  },
  {
   "cell_type": "code",
   "execution_count": 765,
   "metadata": {},
   "outputs": [],
   "source": [
    "make_urls = ['http://www.thecarconnection.com'+suffix for suffix in makes]"
   ]
  },
  {
   "cell_type": "code",
   "execution_count": 795,
   "metadata": {},
   "outputs": [],
   "source": [
    "model_list = []\n",
    "def model_scraper_cc(makes):   \n",
    "    for url in makes:\n",
    "        url = url\n",
    "        response = get(url)\n",
    "        soup = BeautifulSoup(response.text, 'html.parser')\n",
    "        for item in soup.find_all('div', class_='name'):\n",
    "            model_list.append(item.a.attrs.get('href'))\n",
    "    time.sleep(1)"
   ]
  },
  {
   "cell_type": "code",
   "execution_count": 796,
   "metadata": {},
   "outputs": [],
   "source": [
    "model_scraper_cc(make_urls)"
   ]
  },
  {
   "cell_type": "code",
   "execution_count": 798,
   "metadata": {},
   "outputs": [],
   "source": [
    "review_urls = ['http://www.thecarconnection.com'+suffix for suffix in model_list]"
   ]
  },
  {
   "cell_type": "code",
   "execution_count": 822,
   "metadata": {},
   "outputs": [],
   "source": [
    "def cc_review_scraper(urls):\n",
    "    with open('../reviews/cc_reviews.txt', 'w', newline='') as file:\n",
    "        i=1\n",
    "        for url in urls:\n",
    "            start = time.time()\n",
    "            response = get(url)\n",
    "            soup = BeautifulSoup(response.text, 'html.parser')\n",
    "            for item in soup.find_all('div', id='expert-review'):\n",
    "                file.write(url)\n",
    "                file.write('\\n')\n",
    "                file.write(str(item.find_all('p')))\n",
    "                file.write('\\n')\n",
    "                file.write('--------------')\n",
    "                time.sleep(1)\n",
    "                print(f'Scraped review {i} in', time.time()-start)\n",
    "            i+=1\n",
    "        print(f'Scraped {i} reviews in total')"
   ]
  },
  {
   "cell_type": "code",
   "execution_count": 823,
   "metadata": {},
   "outputs": [
    {
     "name": "stdout",
     "output_type": "stream",
     "text": [
      "Scraped review 1 in 1.2414438724517822\n",
      "Scraped review 2 in 1.2473793029785156\n",
      "Scraped review 3 in 1.2539036273956299\n",
      "Scraped review 4 in 1.2398560047149658\n",
      "Scraped review 5 in 1.2841401100158691\n",
      "Scraped review 6 in 1.2349932193756104\n",
      "Scraped review 7 in 1.2350366115570068\n",
      "Scraped review 8 in 1.2282752990722656\n",
      "Scraped review 9 in 1.2344415187835693\n",
      "Scraped review 12 in 1.218871831893921\n",
      "Scraped review 13 in 1.252692461013794\n",
      "Scraped review 14 in 1.2804896831512451\n",
      "Scraped review 15 in 1.2494783401489258\n",
      "Scraped review 16 in 1.2521746158599854\n",
      "Scraped review 17 in 1.2688920497894287\n",
      "Scraped review 18 in 1.244976282119751\n",
      "Scraped review 19 in 1.2533769607543945\n",
      "Scraped review 20 in 1.2575037479400635\n",
      "Scraped review 21 in 1.2396979331970215\n",
      "Scraped review 22 in 1.2764084339141846\n",
      "Scraped review 24 in 1.2442049980163574\n",
      "Scraped review 25 in 1.2844531536102295\n",
      "Scraped review 26 in 1.2306618690490723\n",
      "Scraped review 27 in 2.5188000202178955\n",
      "Scraped review 28 in 1.9448268413543701\n",
      "Scraped review 30 in 1.2356781959533691\n",
      "Scraped review 32 in 1.2525696754455566\n",
      "Scraped review 33 in 1.4250741004943848\n",
      "Scraped review 141 in 1.2809879779815674\n",
      "Scraped review 142 in 1.2388570308685303\n",
      "Scraped review 143 in 1.4682645797729492\n",
      "Scraped review 144 in 1.2472600936889648\n",
      "Scraped review 145 in 1.2867281436920166\n",
      "Scraped review 146 in 1.2536723613739014\n",
      "Scraped review 147 in 1.8331756591796875\n",
      "Scraped review 148 in 1.4692234992980957\n",
      "Scraped review 149 in 1.9898808002471924\n",
      "Scraped review 150 in 1.4717485904693604\n",
      "Scraped review 151 in 1.2498629093170166\n",
      "Scraped review 152 in 1.2043273448944092\n",
      "Scraped review 153 in 1.2497363090515137\n",
      "Scraped review 154 in 1.2539489269256592\n",
      "Scraped review 155 in 1.4537713527679443\n",
      "Scraped review 156 in 1.5189597606658936\n",
      "Scraped review 157 in 1.4315087795257568\n",
      "Scraped review 159 in 1.2430706024169922\n",
      "Scraped review 160 in 1.2420403957366943\n",
      "Scraped review 161 in 1.4907004833221436\n",
      "Scraped review 163 in 2.4925856590270996\n",
      "Scraped review 172 in 1.2690362930297852\n",
      "Scraped review 173 in 1.3348979949951172\n",
      "Scraped review 174 in 1.2956805229187012\n",
      "Scraped review 175 in 1.2990410327911377\n",
      "Scraped review 176 in 1.5219082832336426\n",
      "Scraped review 177 in 1.2690486907958984\n",
      "Scraped review 178 in 1.670806884765625\n",
      "Scraped review 179 in 1.2410180568695068\n",
      "Scraped review 180 in 1.237401008605957\n",
      "Scraped review 184 in 1.2683515548706055\n",
      "Scraped review 185 in 1.2600834369659424\n",
      "Scraped review 186 in 1.2315952777862549\n",
      "Scraped review 187 in 1.268557071685791\n",
      "Scraped review 189 in 1.287257194519043\n",
      "Scraped review 190 in 1.2810025215148926\n",
      "Scraped review 191 in 1.273855447769165\n",
      "Scraped review 192 in 1.2556307315826416\n",
      "Scraped review 194 in 1.2737796306610107\n",
      "Scraped review 196 in 1.2502882480621338\n",
      "Scraped review 201 in 1.5530235767364502\n",
      "Scraped review 202 in 1.2211799621582031\n",
      "Scraped review 203 in 1.8777670860290527\n",
      "Scraped review 204 in 1.7887694835662842\n",
      "Scraped review 205 in 1.2756307125091553\n",
      "Scraped review 206 in 1.53773832321167\n",
      "Scraped review 207 in 1.2588295936584473\n",
      "Scraped review 208 in 1.2677891254425049\n",
      "Scraped review 209 in 1.7413809299468994\n",
      "Scraped review 210 in 1.4023985862731934\n",
      "Scraped review 211 in 9.172431707382202\n",
      "Scraped review 215 in 1.2377710342407227\n",
      "Scraped review 216 in 1.2472805976867676\n",
      "Scraped review 217 in 1.2407612800598145\n",
      "Scraped review 218 in 1.236741065979004\n",
      "Scraped review 219 in 1.4964125156402588\n",
      "Scraped review 220 in 1.245596170425415\n",
      "Scraped review 221 in 1.2647109031677246\n",
      "Scraped review 222 in 2.011861562728882\n",
      "Scraped review 227 in 1.2191035747528076\n",
      "Scraped review 228 in 1.237558364868164\n",
      "Scraped review 229 in 1.2287986278533936\n",
      "Scraped review 230 in 1.3028349876403809\n",
      "Scraped review 231 in 1.2357430458068848\n",
      "Scraped review 232 in 1.2577247619628906\n",
      "Scraped review 233 in 1.2578623294830322\n",
      "Scraped review 234 in 1.2478926181793213\n",
      "Scraped review 235 in 1.2445108890533447\n",
      "Scraped review 236 in 1.251619577407837\n",
      "Scraped review 238 in 1.2813353538513184\n",
      "Scraped review 239 in 1.2414281368255615\n",
      "Scraped review 240 in 1.2447044849395752\n",
      "Scraped review 243 in 1.2193846702575684\n",
      "Scraped review 244 in 1.236447811126709\n",
      "Scraped review 245 in 1.2585022449493408\n",
      "Scraped review 246 in 1.246140956878662\n",
      "Scraped review 247 in 1.2572789192199707\n",
      "Scraped review 248 in 1.250429391860962\n",
      "Scraped review 249 in 1.238090991973877\n",
      "Scraped review 250 in 1.2747762203216553\n",
      "Scraped review 251 in 1.244715690612793\n",
      "Scraped review 252 in 1.25191330909729\n",
      "Scraped review 253 in 1.2419188022613525\n",
      "Scraped review 254 in 1.2414116859436035\n",
      "Scraped review 255 in 1.2358224391937256\n",
      "Scraped review 260 in 1.4285039901733398\n",
      "Scraped review 261 in 1.4085495471954346\n",
      "Scraped review 262 in 1.249387502670288\n",
      "Scraped review 263 in 1.2453477382659912\n",
      "Scraped review 264 in 1.4909727573394775\n",
      "Scraped review 265 in 1.2542052268981934\n",
      "Scraped review 266 in 1.4857430458068848\n",
      "Scraped review 267 in 1.2437646389007568\n",
      "Scraped review 268 in 1.2290430068969727\n",
      "Scraped review 269 in 1.2583742141723633\n",
      "Scraped review 270 in 1.208824634552002\n",
      "Scraped review 272 in 1.2353875637054443\n",
      "Scraped review 273 in 1.6742279529571533\n",
      "Scraped review 274 in 1.526047945022583\n",
      "Scraped review 275 in 1.5469276905059814\n",
      "Scraped review 276 in 1.2383809089660645\n",
      "Scraped review 278 in 1.6471800804138184\n",
      "Scraped review 279 in 1.4750080108642578\n",
      "Scraped review 280 in 1.3081092834472656\n",
      "Scraped review 281 in 1.2632927894592285\n",
      "Scraped review 282 in 1.2910661697387695\n",
      "Scraped review 283 in 1.4245612621307373\n",
      "Scraped review 284 in 1.522596836090088\n",
      "Scraped review 285 in 1.2721211910247803\n",
      "Scraped review 286 in 1.613065242767334\n",
      "Scraped review 287 in 1.2987556457519531\n",
      "Scraped review 288 in 1.264453649520874\n",
      "Scraped review 290 in 1.2316017150878906\n",
      "Scraped review 291 in 1.2115061283111572\n",
      "Scraped review 292 in 1.234276533126831\n",
      "Scraped review 293 in 1.2353606224060059\n",
      "Scraped review 294 in 1.2420356273651123\n",
      "Scraped review 295 in 1.2838397026062012\n",
      "Scraped review 296 in 1.2420284748077393\n",
      "Scraped review 297 in 1.2396538257598877\n",
      "Scraped review 298 in 1.246347188949585\n",
      "Scraped review 299 in 1.44588303565979\n",
      "Scraped review 300 in 1.4442546367645264\n",
      "Scraped review 307 in 1.2564163208007812\n",
      "Scraped review 308 in 1.2459430694580078\n",
      "Scraped review 309 in 1.2477550506591797\n",
      "Scraped review 310 in 1.2449092864990234\n",
      "Scraped review 311 in 1.5088577270507812\n",
      "Scraped review 312 in 1.2606079578399658\n",
      "Scraped review 313 in 1.2461869716644287\n",
      "Scraped review 314 in 1.6874866485595703\n",
      "Scraped review 315 in 2.4209096431732178\n",
      "Scraped review 316 in 1.453223705291748\n",
      "Scraped review 317 in 1.5204849243164062\n",
      "Scraped review 318 in 1.233771800994873\n",
      "Scraped review 319 in 1.491342306137085\n",
      "Scraped review 320 in 1.2447376251220703\n",
      "Scraped review 321 in 1.4755871295928955\n",
      "Scraped review 323 in 1.233527660369873\n",
      "Scraped review 324 in 1.406813144683838\n",
      "Scraped review 329 in 1.243053913116455\n",
      "Scraped review 330 in 1.3310484886169434\n",
      "Scraped review 331 in 1.5004029273986816\n",
      "Scraped review 332 in 1.5369126796722412\n",
      "Scraped review 333 in 1.5199391841888428\n",
      "Scraped review 334 in 1.9102210998535156\n",
      "Scraped review 337 in 1.2344951629638672\n",
      "Scraped review 338 in 1.2544825077056885\n",
      "Scraped review 339 in 1.247739553451538\n",
      "Scraped review 340 in 1.1918933391571045\n",
      "Scraped review 341 in 1.2513561248779297\n",
      "Scraped review 342 in 1.2478668689727783\n",
      "Scraped review 343 in 1.3259685039520264\n",
      "Scraped review 344 in 1.2662136554718018\n",
      "Scraped review 345 in 2.2636940479278564\n",
      "Scraped review 346 in 1.3069872856140137\n",
      "Scraped review 347 in 1.4505555629730225\n",
      "Scraped review 348 in 1.239222526550293\n",
      "Scraped review 349 in 1.249077320098877\n",
      "Scraped review 350 in 1.2482638359069824\n",
      "Scraped review 351 in 1.2587363719940186\n",
      "Scraped review 352 in 1.2513830661773682\n",
      "Scraped review 353 in 1.2214605808258057\n",
      "Scraped review 354 in 1.2177865505218506\n",
      "Scraped review 355 in 1.4683778285980225\n",
      "Scraped review 358 in 1.2478587627410889\n",
      "Scraped review 359 in 1.2965724468231201\n",
      "Scraped review 360 in 1.2419557571411133\n",
      "Scraped review 361 in 1.4256761074066162\n",
      "Scraped review 362 in 1.3998887538909912\n",
      "Scraped review 365 in 1.696556568145752\n",
      "Scraped review 366 in 1.5072486400604248\n",
      "Scraped review 367 in 1.4247832298278809\n",
      "Scraped review 368 in 1.431159496307373\n"
     ]
    },
    {
     "name": "stdout",
     "output_type": "stream",
     "text": [
      "Scraped review 369 in 1.4741520881652832\n",
      "Scraped review 370 in 1.2252628803253174\n",
      "Scraped review 371 in 10.05290937423706\n",
      "Scraped review 373 in 1.2682194709777832\n",
      "Scraped review 375 in 1.2656400203704834\n",
      "Scraped review 376 in 1.2433512210845947\n",
      "Scraped review 377 in 1.480130910873413\n",
      "Scraped review 378 in 1.2424602508544922\n",
      "Scraped review 379 in 1.2239339351654053\n",
      "Scraped review 380 in 1.2444164752960205\n",
      "Scraped review 381 in 1.5001840591430664\n",
      "Scraped review 382 in 1.2449746131896973\n",
      "Scraped review 383 in 1.1959545612335205\n",
      "Scraped review 384 in 1.4305927753448486\n",
      "Scraped review 385 in 1.4214043617248535\n",
      "Scraped review 386 in 1.2649378776550293\n",
      "Scraped review 387 in 1.2516348361968994\n",
      "Scraped review 388 in 1.2276029586791992\n",
      "Scraped review 389 in 1.3233323097229004\n",
      "Scraped review 390 in 2.18259334564209\n",
      "Scraped review 391 in 1.2769136428833008\n",
      "Scraped review 392 in 1.262416124343872\n",
      "Scraped review 393 in 1.2981784343719482\n",
      "Scraped review 394 in 1.9397525787353516\n",
      "Scraped review 395 in 1.2648706436157227\n",
      "Scraped review 396 in 1.3370709419250488\n",
      "Scraped review 397 in 1.4137098789215088\n",
      "Scraped review 398 in 1.258866548538208\n",
      "Scraped review 400 in 1.2707080841064453\n",
      "Scraped review 401 in 1.220449686050415\n",
      "Scraped review 402 in 1.4754438400268555\n",
      "Scraped review 403 in 1.4247615337371826\n",
      "Scraped review 404 in 1.2809169292449951\n",
      "Scraped review 410 in 1.4423213005065918\n",
      "Scraped review 411 in 1.4393310546875\n",
      "Scraped review 412 in 1.4076926708221436\n",
      "Scraped review 413 in 1.2368290424346924\n",
      "Scraped review 414 in 1.5231525897979736\n",
      "Scraped review 416 in 1.2785212993621826\n",
      "Scraped review 417 in 1.51503586769104\n",
      "Scraped review 418 in 1.273280382156372\n",
      "Scraped review 420 in 1.4956884384155273\n",
      "Scraped review 424 in 1.5234825611114502\n",
      "Scraped review 425 in 1.6794524192810059\n",
      "Scraped review 426 in 1.2437100410461426\n",
      "Scraped review 427 in 1.469238042831421\n",
      "Scraped review 428 in 1.4896016120910645\n",
      "Scraped review 429 in 1.492305040359497\n",
      "Scraped review 430 in 1.546247959136963\n",
      "Scraped 432 reviews in total\n"
     ]
    }
   ],
   "source": [
    "cc_review_scraper(review_urls)"
   ]
  },
  {
   "cell_type": "markdown",
   "metadata": {},
   "source": [
    "## ConsumerReports"
   ]
  },
  {
   "cell_type": "code",
   "execution_count": 82,
   "metadata": {},
   "outputs": [
    {
     "data": {
      "text/plain": [
       "'http://www.motortrend.com/cars/acura/'"
      ]
     },
     "execution_count": 82,
     "metadata": {},
     "output_type": "execute_result"
    }
   ],
   "source": [
    "make_urls[0]"
   ]
  },
  {
   "cell_type": "code",
   "execution_count": 172,
   "metadata": {},
   "outputs": [],
   "source": [
    "cg_makes = []\n",
    "response = get('http://consumerguide.com/find-review/')\n",
    "soup = BeautifulSoup(response.text, 'html.parser')\n",
    "for item in soup.find_all('div', class_='vc_column-inner '):\n",
    "    for link in item.find_all('p'):\n",
    "        for url in link.find_all('a'):\n",
    "            cg_makes.append(url.attrs.get('href'))"
   ]
  },
  {
   "cell_type": "code",
   "execution_count": 177,
   "metadata": {},
   "outputs": [],
   "source": [
    "cg_review_list = []\n",
    "def cg_model_scrape(urls):\n",
    "    for url in urls:\n",
    "        response = get(url)\n",
    "        soup = BeautifulSoup(response.text, 'html.parser')\n",
    "        for item in soup.find_all('div', class_='mk-fancy-table table-style1 ')[0].find_all('td'):\n",
    "            if (re.findall('\\d+', str(item))[0] == '2018'):\n",
    "                cg_review_list.append(item.a.attrs.get('href'))\n",
    "            time.sleep(1)"
   ]
  },
  {
   "cell_type": "code",
   "execution_count": 179,
   "metadata": {
    "scrolled": true
   },
   "outputs": [
    {
     "name": "stdout",
     "output_type": "stream",
     "text": [
      "CPU times: user 1.82 s, sys: 16 ms, total: 1.83 s\n",
      "Wall time: 9min 33s\n"
     ]
    }
   ],
   "source": [
    "%%time\n",
    "cg_model_scrape(cg_makes)"
   ]
  },
  {
   "cell_type": "code",
   "execution_count": 245,
   "metadata": {},
   "outputs": [],
   "source": [
    "def cg_review_scraper(urls):\n",
    "    #with open('../reviews/cg_reviews.txt', 'w', newline='') as file:\n",
    "    with open('test.txt', 'w', newline='') as file:\n",
    "        for i, url in enumerate(urls):\n",
    "            start = time.time()\n",
    "            try:\n",
    "                response = get(url)\n",
    "                soup = BeautifulSoup(response.text, 'html.parser')\n",
    "                for item in soup.find_all('div', id='text-block-4'):\n",
    "                    file.write(url)\n",
    "                    file.write('\\n')\n",
    "                    file.write(str(item.find_all('p')))\n",
    "                    file.write('\\n')\n",
    "                for item in soup.find_all('div', id='text-block-6'):\n",
    "                    file.write(str(item.find_all('p')))\n",
    "                    file.write('\\n')\n",
    "                    file.write('----------')\n",
    "                    time.sleep(2) \n",
    "                    print(f'Scraped review {i+1} in {time.time()-start} seconds')\n",
    "            except:\n",
    "                print(f'Scraping review {i+1} failed')\n",
    "        print(f'Scraped {i+1} reviews in total')\n",
    "        file.write(f'Scraped {i+1} reviews in total')"
   ]
  },
  {
   "cell_type": "code",
   "execution_count": 246,
   "metadata": {
    "scrolled": true
   },
   "outputs": [
    {
     "name": "stdout",
     "output_type": "stream",
     "text": [
      "Scraped review 1 in 3.2658746242523193 seconds\n",
      "Scraped review 2 in 2.396063804626465 seconds\n",
      "Scraped review 3 in 2.3842852115631104 seconds\n",
      "Scraped review 4 in 2.379533052444458 seconds\n",
      "Scraped review 5 in 2.521920680999756 seconds\n",
      "Scraped review 6 in 2.3843088150024414 seconds\n",
      "Scraped review 7 in 2.3200066089630127 seconds\n",
      "Scraped review 8 in 2.3900630474090576 seconds\n",
      "Scraped review 9 in 2.3778915405273438 seconds\n",
      "Scraped review 10 in 2.3818418979644775 seconds\n",
      "Scraped review 11 in 2.3841285705566406 seconds\n",
      "Scraped review 12 in 2.3838326930999756 seconds\n",
      "Scraped review 13 in 2.3902502059936523 seconds\n",
      "Scraped review 14 in 2.3261687755584717 seconds\n",
      "Scraped review 15 in 2.3805582523345947 seconds\n",
      "Scraped review 16 in 2.397081136703491 seconds\n",
      "Scraped review 17 in 2.3326478004455566 seconds\n",
      "Scraped review 18 in 2.3840174674987793 seconds\n",
      "Scraped review 19 in 2.3858563899993896 seconds\n",
      "Scraped review 20 in 2.386188268661499 seconds\n",
      "Scraped review 21 in 2.328547477722168 seconds\n",
      "Scraped review 22 in 2.3983752727508545 seconds\n",
      "Scraped review 23 in 2.7471508979797363 seconds\n",
      "Scraped review 24 in 2.5484886169433594 seconds\n",
      "Scraped review 25 in 2.3843696117401123 seconds\n",
      "Scraped review 26 in 2.436415195465088 seconds\n",
      "Scraped review 27 in 2.3821499347686768 seconds\n",
      "Scraped review 28 in 2.381197929382324 seconds\n",
      "Scraped review 29 in 2.383990526199341 seconds\n",
      "Scraped review 30 in 2.3753082752227783 seconds\n",
      "Scraped review 31 in 2.3820836544036865 seconds\n",
      "Scraped review 32 in 2.385477304458618 seconds\n",
      "Scraped review 33 in 2.3776328563690186 seconds\n",
      "Scraped review 34 in 2.3267993927001953 seconds\n",
      "Scraped review 35 in 2.39540696144104 seconds\n",
      "Scraped review 36 in 2.3927571773529053 seconds\n",
      "Scraped review 37 in 2.329502820968628 seconds\n",
      "Scraped review 38 in 2.3821897506713867 seconds\n",
      "Scraped review 39 in 2.3850252628326416 seconds\n",
      "Scraped review 40 in 2.386225461959839 seconds\n",
      "Scraped review 41 in 2.3889739513397217 seconds\n",
      "Scraped review 42 in 2.396834135055542 seconds\n",
      "Scraped review 43 in 6.0837953090667725 seconds\n",
      "Scraped review 44 in 2.5440361499786377 seconds\n",
      "Scraped review 45 in 2.3827123641967773 seconds\n",
      "Scraped review 46 in 2.3874664306640625 seconds\n",
      "Scraped review 47 in 2.3834879398345947 seconds\n",
      "Scraped review 48 in 2.3782689571380615 seconds\n",
      "Scraped review 49 in 2.383631706237793 seconds\n",
      "Scraped review 50 in 2.3904366493225098 seconds\n",
      "Scraped review 51 in 2.3902761936187744 seconds\n",
      "Scraped review 52 in 2.389946222305298 seconds\n",
      "Scraped review 53 in 2.391936779022217 seconds\n",
      "Scraped review 54 in 2.3179514408111572 seconds\n",
      "Scraped review 55 in 2.3818790912628174 seconds\n",
      "Scraped review 56 in 2.330918788909912 seconds\n",
      "Scraped review 57 in 2.3943872451782227 seconds\n",
      "Scraped review 58 in 2.397252321243286 seconds\n",
      "Scraped review 59 in 2.387453556060791 seconds\n",
      "Scraped review 60 in 2.3901309967041016 seconds\n",
      "Scraped review 61 in 2.3952980041503906 seconds\n",
      "Scraped review 62 in 2.331465482711792 seconds\n",
      "Scraped review 63 in 2.5429811477661133 seconds\n",
      "Scraped review 64 in 2.3292455673217773 seconds\n",
      "Scraped review 65 in 2.3775229454040527 seconds\n",
      "Scraped review 66 in 2.3848841190338135 seconds\n",
      "Scraped review 67 in 2.3924448490142822 seconds\n",
      "Scraped review 68 in 2.379540205001831 seconds\n",
      "Scraped review 69 in 2.389995813369751 seconds\n",
      "Scraped review 70 in 2.3888261318206787 seconds\n",
      "Scraped review 71 in 2.700425148010254 seconds\n",
      "Scraped review 72 in 2.3788580894470215 seconds\n",
      "Scraped review 73 in 2.3860130310058594 seconds\n",
      "Scraped review 74 in 2.3949289321899414 seconds\n",
      "Scraped review 75 in 2.4137842655181885 seconds\n",
      "Scraped review 76 in 2.330782413482666 seconds\n",
      "Scraped review 77 in 2.3959763050079346 seconds\n",
      "Scraped review 78 in 2.379671573638916 seconds\n",
      "Scraped review 79 in 2.383070468902588 seconds\n",
      "Scraped review 80 in 2.396921157836914 seconds\n",
      "Scraped review 81 in 2.3817636966705322 seconds\n",
      "Scraped review 82 in 2.5299837589263916 seconds\n",
      "Scraped review 83 in 2.390359878540039 seconds\n",
      "Scraped review 84 in 2.3907549381256104 seconds\n",
      "Scraped review 85 in 2.635732650756836 seconds\n",
      "Scraped review 86 in 2.3969931602478027 seconds\n",
      "Scraped review 87 in 2.393066167831421 seconds\n",
      "Scraped review 88 in 2.373443603515625 seconds\n",
      "Scraped review 89 in 2.381498098373413 seconds\n",
      "Scraped review 90 in 2.3879332542419434 seconds\n",
      "Scraped review 91 in 2.3914248943328857 seconds\n",
      "Scraped review 92 in 2.3959832191467285 seconds\n",
      "Scraped review 93 in 2.3942763805389404 seconds\n",
      "Scraped review 94 in 2.378567695617676 seconds\n",
      "Scraped review 95 in 2.394179105758667 seconds\n",
      "Scraped review 96 in 2.38539457321167 seconds\n",
      "Scraped review 97 in 2.3787238597869873 seconds\n",
      "Scraped review 98 in 2.3908286094665527 seconds\n",
      "Scraped review 99 in 2.3945062160491943 seconds\n",
      "Scraped review 100 in 2.404996156692505 seconds\n",
      "Scraped review 101 in 2.544896125793457 seconds\n",
      "Scraped review 102 in 2.3833203315734863 seconds\n",
      "Scraped review 103 in 2.3862428665161133 seconds\n",
      "Scraped review 104 in 2.387500047683716 seconds\n",
      "Scraped review 105 in 2.3782787322998047 seconds\n",
      "Scraped review 106 in 2.379671335220337 seconds\n",
      "Scraped review 107 in 2.383188247680664 seconds\n",
      "Scraped review 108 in 2.3848423957824707 seconds\n",
      "Scraped review 109 in 2.3234786987304688 seconds\n",
      "Scraped review 110 in 2.3795320987701416 seconds\n",
      "Scraped review 111 in 2.389254093170166 seconds\n",
      "Scraped review 112 in 2.400196075439453 seconds\n",
      "Scraped review 113 in 2.329152822494507 seconds\n",
      "Scraped review 114 in 2.3865110874176025 seconds\n",
      "Scraped review 115 in 2.3919317722320557 seconds\n",
      "Scraped review 116 in 2.380035161972046 seconds\n",
      "Scraped review 117 in 2.3940041065216064 seconds\n",
      "Scraped review 118 in 2.394443988800049 seconds\n",
      "Scraped review 119 in 2.3994667530059814 seconds\n",
      "Scraped review 120 in 2.5363974571228027 seconds\n",
      "Scraped review 121 in 2.9166245460510254 seconds\n",
      "Scraped review 122 in 3.4120030403137207 seconds\n",
      "Scraped review 123 in 2.3817317485809326 seconds\n",
      "Scraped review 124 in 2.391366481781006 seconds\n",
      "Scraped review 125 in 2.39314603805542 seconds\n",
      "Scraped review 126 in 2.3821332454681396 seconds\n",
      "Scraped review 127 in 2.387373208999634 seconds\n",
      "Scraped review 128 in 2.384080648422241 seconds\n",
      "Scraped review 129 in 2.382619619369507 seconds\n",
      "Scraped review 130 in 2.3821492195129395 seconds\n",
      "Scraped review 131 in 2.379063606262207 seconds\n",
      "Scraped review 132 in 2.3946175575256348 seconds\n",
      "Scraped review 133 in 2.390096664428711 seconds\n",
      "Scraped review 134 in 2.3926680088043213 seconds\n",
      "Scraped review 135 in 2.381850242614746 seconds\n",
      "Scraped review 136 in 2.3892080783843994 seconds\n",
      "Scraped review 137 in 2.384443759918213 seconds\n",
      "Scraped review 138 in 2.3863534927368164 seconds\n",
      "Scraped review 139 in 2.3874738216400146 seconds\n",
      "Scraped review 140 in 2.5394132137298584 seconds\n",
      "Scraped review 141 in 2.391624927520752 seconds\n",
      "Scraped review 142 in 2.3828518390655518 seconds\n",
      "Scraped review 143 in 2.3816463947296143 seconds\n",
      "Scraped review 144 in 2.3819143772125244 seconds\n",
      "Scraped review 145 in 2.384896755218506 seconds\n",
      "Scraped review 146 in 2.387767791748047 seconds\n",
      "Scraped review 147 in 2.644502878189087 seconds\n",
      "Scraped review 148 in 2.3944942951202393 seconds\n",
      "Scraped review 149 in 2.3755111694335938 seconds\n",
      "Scraped review 150 in 2.3427629470825195 seconds\n",
      "Scraped review 151 in 2.3868942260742188 seconds\n",
      "Scraped review 152 in 2.388899564743042 seconds\n",
      "Scraped review 153 in 2.389333724975586 seconds\n",
      "Scraped review 154 in 2.393803596496582 seconds\n",
      "Scraped review 155 in 2.3929944038391113 seconds\n",
      "Scraped review 156 in 2.3218348026275635 seconds\n",
      "Scraped review 157 in 2.3789968490600586 seconds\n",
      "Scraped review 158 in 2.385467290878296 seconds\n",
      "Scraped review 159 in 2.3834362030029297 seconds\n",
      "Scraped review 160 in 2.5329785346984863 seconds\n",
      "Scraped review 161 in 2.382284641265869 seconds\n",
      "Scraped review 162 in 2.377692937850952 seconds\n",
      "Scraped review 163 in 2.385159492492676 seconds\n",
      "Scraped review 164 in 2.389133930206299 seconds\n",
      "Scraped review 165 in 2.379025459289551 seconds\n",
      "Scraped review 166 in 2.3888070583343506 seconds\n",
      "Scraped review 167 in 2.378483772277832 seconds\n",
      "Scraped review 168 in 2.3964383602142334 seconds\n",
      "Scraped review 169 in 2.3978424072265625 seconds\n",
      "Scraped review 170 in 3.1934854984283447 seconds\n",
      "Scraped review 171 in 2.3826065063476562 seconds\n",
      "Scraped 171 reviews in total\n"
     ]
    }
   ],
   "source": [
    "cg_review_scraper(cg_review_list)"
   ]
  },
  {
   "cell_type": "code",
   "execution_count": 208,
   "metadata": {
    "collapsed": true
   },
   "outputs": [
    {
     "name": "stdout",
     "output_type": "stream",
     "text": [
      "Scraped review 1 in 3.225029230117798 seconds\n",
      "Scraped review 2 in 3.2617709636688232 seconds\n",
      "Scraped review 3 in 3.122955560684204 seconds\n",
      "Scraped review 4 in 3.21842098236084 seconds\n",
      "Scraped review 5 in 3.2574336528778076 seconds\n",
      "Scraped review 6 in 3.1450846195220947 seconds\n",
      "Scraped review 7 in 3.22688627243042 seconds\n",
      "Scraped review 8 in 2.39076828956604 seconds\n",
      "Scraped review 9 in 3.223116636276245 seconds\n",
      "Scraped review 10 in 3.1028568744659424 seconds\n",
      "Scraped review 11 in 3.1718270778656006 seconds\n",
      "Scraped review 12 in 3.4250197410583496 seconds\n",
      "Scraped review 13 in 3.1751487255096436 seconds\n",
      "Scraped review 14 in 5.9352946281433105 seconds\n",
      "Scraped review 15 in 3.152092218399048 seconds\n",
      "Scraped review 16 in 3.1108949184417725 seconds\n",
      "Scraped review 17 in 3.1898841857910156 seconds\n",
      "Scraped review 18 in 3.3364851474761963 seconds\n",
      "Scraped review 19 in 3.164276361465454 seconds\n"
     ]
    }
   ],
   "source": [
    "with open('../reviews/cg_reviews.txt', 'a+', newline='') as file:        \n",
    "    for i, url in enumerate(cg_review_list[150:]):\n",
    "        start = time.time()\n",
    "        response = get(url)\n",
    "        soup = BeautifulSoup(response.text, 'html.parser')\n",
    "        for item in soup.find_all('div', id='text-block-4'):\n",
    "            file.write(url)\n",
    "            file.write('\\n')\n",
    "            file.write(str(item.find_all('p')))\n",
    "            file.write('\\n')\n",
    "        for item in soup.find_all('div', id='text-block-6'):\n",
    "            file.write(str(item.find_all('p')))\n",
    "            file.write('\\n')\n",
    "            file.write('----------')\n",
    "            time.sleep(2) \n",
    "            print(f'Scraped review {i+1} in {time.time()-start} seconds')"
   ]
  },
  {
   "cell_type": "markdown",
   "metadata": {},
   "source": [
    "## Kelley Blue Book"
   ]
  },
  {
   "cell_type": "code",
   "execution_count": 2,
   "metadata": {},
   "outputs": [],
   "source": [
    "# get the make urls:\n",
    "\n",
    "# for url in urls:\n",
    "kbb_makes = []\n",
    "response = get('https://www.kbb.com/sitemap/')\n",
    "soup = BeautifulSoup(response.text, 'html.parser')\n",
    "for item in soup.find_all('div', class_='box-four')[0].find_all('div', class_='box-content')[0].find_all('p'):\n",
    "    kbb_makes.append(item.a.attrs.get('href'))"
   ]
  },
  {
   "cell_type": "code",
   "execution_count": 3,
   "metadata": {},
   "outputs": [],
   "source": [
    "kbb_make_list=['http://www.kbb.com'+x for x in kbb_makes]"
   ]
  },
  {
   "cell_type": "code",
   "execution_count": 4,
   "metadata": {},
   "outputs": [],
   "source": [
    "kbb_model_list = []\n",
    "def kbb_model_scrape(urls):\n",
    "    for url in urls:\n",
    "        response = get(url)\n",
    "        soup = BeautifulSoup(response.text, 'html.parser')\n",
    "        for i in soup.find_all('div', id='Model-select'):\n",
    "            for j in i.find_all('a', class_='section-title'):\n",
    "                kbb_model_list.append(j.attrs.get('href'))"
   ]
  },
  {
   "cell_type": "code",
   "execution_count": 5,
   "metadata": {},
   "outputs": [],
   "source": [
    "kbb_model_scrape(kbb_make_list)"
   ]
  },
  {
   "cell_type": "code",
   "execution_count": 6,
   "metadata": {},
   "outputs": [],
   "source": [
    "kbb_models = ['http://www.kbb.com'+x+'2018' for x in kbb_model_list]"
   ]
  },
  {
   "cell_type": "code",
   "execution_count": 7,
   "metadata": {},
   "outputs": [],
   "source": [
    "def kbb_review_scrape(urls):\n",
    "    with open('../reviews/kbb_reviews.txt', 'w', newline='') as file:\n",
    "        for i, url in enumerate(urls):\n",
    "            start = time.time()\n",
    "            try:\n",
    "                response = get(url)\n",
    "                soup = BeautifulSoup(response.text, 'html.parser')\n",
    "                if soup.find('h1').text == \"Sorry, we couldn't that page.\": #checking for cars w/o 2018 model year\n",
    "                    pass\n",
    "                else:\n",
    "                    for item in soup.find_all('div', class_='container-fluid full-expert-reviews'):\n",
    "                        file.write(url)\n",
    "                        file.write('\\n')\n",
    "                        file.write(str(item.find_all('p')))\n",
    "                        file.write('\\n')\n",
    "                        file.write('---------')\n",
    "                        time.sleep(2)\n",
    "                        print(f'Scraped review {i+1} in {time.time()-start} seconds')\n",
    "            except:\n",
    "                print(f'Scraping review {i+1} failed')\n",
    "        print(f'Scraped {i+1} reviews in total')"
   ]
  },
  {
   "cell_type": "code",
   "execution_count": 8,
   "metadata": {},
   "outputs": [
    {
     "name": "stdout",
     "output_type": "stream",
     "text": [
      "Scraped review 2 in 3.598896026611328 seconds\n",
      "Scraped review 5 in 4.22825026512146 seconds\n",
      "Scraped review 6 in 3.670644998550415 seconds\n",
      "Scraped review 7 in 4.158515930175781 seconds\n",
      "Scraped review 8 in 6.603033781051636 seconds\n",
      "Scraped review 10 in 3.9370322227478027 seconds\n",
      "Scraped review 11 in 4.29580545425415 seconds\n",
      "Scraped review 15 in 4.237503528594971 seconds\n",
      "Scraped review 21 in 3.9728143215179443 seconds\n",
      "Scraped review 22 in 3.946347951889038 seconds\n",
      "Scraped review 24 in 3.579514741897583 seconds\n",
      "Scraped review 32 in 3.4718399047851562 seconds\n",
      "Scraped review 38 in 3.8914361000061035 seconds\n",
      "Scraped review 39 in 3.793781280517578 seconds\n",
      "Scraped review 40 in 4.08376145362854 seconds\n",
      "Scraped review 42 in 3.852458953857422 seconds\n",
      "Scraped review 82 in 4.150879144668579 seconds\n",
      "Scraped review 83 in 3.878783702850342 seconds\n",
      "Scraped review 86 in 3.7475545406341553 seconds\n",
      "Scraped review 89 in 3.947260856628418 seconds\n",
      "Scraped review 90 in 4.223978042602539 seconds\n",
      "Scraped review 91 in 4.820106029510498 seconds\n",
      "Scraped review 92 in 4.234776020050049 seconds\n",
      "Scraped review 93 in 3.9938604831695557 seconds\n",
      "Scraped review 94 in 4.864839792251587 seconds\n",
      "Scraped review 95 in 4.477118968963623 seconds\n",
      "Scraped review 96 in 4.118121385574341 seconds\n",
      "Scraped review 97 in 3.7979676723480225 seconds\n",
      "Scraped review 98 in 4.1117634773254395 seconds\n",
      "Scraped review 99 in 6.058514356613159 seconds\n",
      "Scraped review 100 in 4.329007863998413 seconds\n",
      "Scraped review 101 in 4.4234278202056885 seconds\n",
      "Scraped review 106 in 4.124711275100708 seconds\n",
      "Scraped review 108 in 4.301853895187378 seconds\n",
      "Scraped review 109 in 3.9156436920166016 seconds\n",
      "Scraped review 110 in 3.765481948852539 seconds\n",
      "Scraped review 111 in 3.9606776237487793 seconds\n",
      "Scraped review 117 in 4.1754539012908936 seconds\n",
      "Scraped review 118 in 3.803501844406128 seconds\n",
      "Scraped review 126 in 4.280343294143677 seconds\n",
      "Scraped review 127 in 3.881047487258911 seconds\n",
      "Scraped review 130 in 4.090009927749634 seconds\n",
      "Scraped review 131 in 3.7156951427459717 seconds\n",
      "Scraped review 132 in 3.9336745738983154 seconds\n",
      "Scraped review 137 in 3.796414375305176 seconds\n",
      "Scraped review 138 in 4.096078395843506 seconds\n",
      "Scraped review 146 in 4.050837278366089 seconds\n",
      "Scraped review 147 in 4.091039657592773 seconds\n",
      "Scraped review 169 in 3.9028866291046143 seconds\n",
      "Scraped review 170 in 3.931365966796875 seconds\n",
      "Scraped review 175 in 3.5725111961364746 seconds\n",
      "Scraped review 178 in 4.737025022506714 seconds\n",
      "Scraped review 179 in 4.6413538455963135 seconds\n",
      "Scraped review 182 in 3.902637243270874 seconds\n",
      "Scraped review 183 in 4.214050769805908 seconds\n",
      "Scraped review 185 in 3.8464667797088623 seconds\n",
      "Scraped review 188 in 4.0359179973602295 seconds\n",
      "Scraped review 189 in 3.951927900314331 seconds\n",
      "Scraped review 190 in 4.035492897033691 seconds\n",
      "Scraped review 191 in 4.17246413230896 seconds\n",
      "Scraped review 199 in 7.303967475891113 seconds\n",
      "Scraped review 205 in 4.371365785598755 seconds\n",
      "Scraped review 225 in 3.899139642715454 seconds\n",
      "Scraped review 226 in 4.126673460006714 seconds\n",
      "Scraped review 229 in 3.707615852355957 seconds\n",
      "Scraped review 232 in 3.8117902278900146 seconds\n",
      "Scraped review 233 in 4.020219087600708 seconds\n",
      "Scraped review 235 in 3.9188694953918457 seconds\n",
      "Scraped review 239 in 3.9961636066436768 seconds\n",
      "Scraped review 242 in 3.9344146251678467 seconds\n",
      "Scraped review 244 in 5.295815706253052 seconds\n",
      "Scraped review 245 in 3.886172294616699 seconds\n",
      "Scraped review 252 in 3.991410732269287 seconds\n",
      "Scraped review 256 in 3.657196044921875 seconds\n",
      "Scraped review 260 in 3.859882116317749 seconds\n",
      "Scraped review 261 in 4.6727025508880615 seconds\n",
      "Scraped review 266 in 3.849276304244995 seconds\n",
      "Scraped review 268 in 4.165070295333862 seconds\n",
      "Scraped review 280 in 3.9268715381622314 seconds\n",
      "Scraped review 281 in 3.625142812728882 seconds\n",
      "Scraped review 291 in 3.302074909210205 seconds\n",
      "Scraped review 292 in 4.216730833053589 seconds\n",
      "Scraped review 307 in 4.702650308609009 seconds\n",
      "Scraped review 310 in 4.161378860473633 seconds\n",
      "Scraped review 312 in 4.0034191608428955 seconds\n",
      "Scraped review 368 in 4.953948259353638 seconds\n",
      "Scraped review 374 in 3.855947256088257 seconds\n",
      "Scraped review 375 in 4.1357996463775635 seconds\n",
      "Scraped review 382 in 4.827051877975464 seconds\n",
      "Scraped review 399 in 4.211477279663086 seconds\n",
      "Scraped review 400 in 4.0212342739105225 seconds\n",
      "Scraped review 401 in 3.9558777809143066 seconds\n",
      "Scraped review 404 in 4.920324087142944 seconds\n",
      "Scraped review 406 in 3.8705599308013916 seconds\n",
      "Scraped review 407 in 4.050048828125 seconds\n",
      "Scraped review 412 in 4.136890172958374 seconds\n",
      "Scraped review 413 in 3.837313652038574 seconds\n",
      "Scraped review 414 in 3.254092216491699 seconds\n",
      "Scraped review 418 in 4.201542139053345 seconds\n",
      "Scraped review 419 in 3.6119275093078613 seconds\n",
      "Scraped review 420 in 3.856139659881592 seconds\n",
      "Scraped review 424 in 3.358844041824341 seconds\n",
      "Scraped review 426 in 3.3000473976135254 seconds\n",
      "Scraped review 429 in 4.311594724655151 seconds\n",
      "Scraped review 431 in 3.724271059036255 seconds\n",
      "Scraped review 432 in 6.948289632797241 seconds\n",
      "Scraped review 437 in 3.8845226764678955 seconds\n",
      "Scraped review 438 in 4.219552040100098 seconds\n",
      "Scraped review 440 in 3.9807167053222656 seconds\n",
      "Scraped review 444 in 4.026509761810303 seconds\n",
      "Scraped review 448 in 3.626563787460327 seconds\n",
      "Scraped review 449 in 4.30225944519043 seconds\n",
      "Scraped review 450 in 3.187509059906006 seconds\n",
      "Scraped review 454 in 3.303969144821167 seconds\n",
      "Scraped review 455 in 3.59759783744812 seconds\n",
      "Scraped review 466 in 3.9253199100494385 seconds\n",
      "Scraped review 467 in 4.481518268585205 seconds\n",
      "Scraped review 480 in 4.011040925979614 seconds\n",
      "Scraped review 482 in 3.4638359546661377 seconds\n",
      "Scraped review 483 in 3.892714500427246 seconds\n",
      "Scraped review 498 in 4.212054967880249 seconds\n",
      "Scraped review 513 in 4.104755640029907 seconds\n",
      "Scraped review 514 in 4.343642234802246 seconds\n",
      "Scraped review 517 in 3.7748048305511475 seconds\n",
      "Scraped review 520 in 4.2542572021484375 seconds\n",
      "Scraped review 521 in 4.244708776473999 seconds\n",
      "Scraped review 523 in 4.347927570343018 seconds\n",
      "Scraped review 527 in 3.658541202545166 seconds\n",
      "Scraped review 539 in 3.8597872257232666 seconds\n",
      "Scraped review 546 in 4.044632196426392 seconds\n",
      "Scraped review 548 in 5.260404825210571 seconds\n",
      "Scraped review 551 in 3.4656922817230225 seconds\n",
      "Scraped review 553 in 3.9582266807556152 seconds\n",
      "Scraped review 554 in 3.6274490356445312 seconds\n",
      "Scraped review 555 in 4.680219411849976 seconds\n",
      "Scraped review 557 in 3.5633199214935303 seconds\n",
      "Scraped review 558 in 4.1770806312561035 seconds\n",
      "Scraped review 560 in 3.6110894680023193 seconds\n",
      "Scraped review 564 in 3.802816867828369 seconds\n",
      "Scraped review 565 in 3.5583066940307617 seconds\n",
      "Scraped review 567 in 3.79854679107666 seconds\n",
      "Scraped review 569 in 3.9635794162750244 seconds\n",
      "Scraped review 571 in 6.034055709838867 seconds\n",
      "Scraped review 573 in 3.811490297317505 seconds\n",
      "Scraped review 575 in 4.925127744674683 seconds\n",
      "Scraped review 576 in 4.089325666427612 seconds\n",
      "Scraped review 582 in 3.7663841247558594 seconds\n",
      "Scraped review 583 in 4.748030424118042 seconds\n",
      "Scraped review 584 in 4.149290323257446 seconds\n",
      "Scraped review 585 in 4.1001880168914795 seconds\n",
      "Scraped review 586 in 4.321188449859619 seconds\n",
      "Scraped review 587 in 3.9822781085968018 seconds\n",
      "Scraped review 589 in 4.246814727783203 seconds\n",
      "Scraped review 590 in 3.4422993659973145 seconds\n",
      "Scraped review 593 in 4.177678823471069 seconds\n",
      "Scraped review 608 in 3.8933699131011963 seconds\n",
      "Scraped review 609 in 4.0082972049713135 seconds\n",
      "Scraped review 610 in 4.168385982513428 seconds\n",
      "Scraped review 612 in 3.7922050952911377 seconds\n",
      "Scraped review 614 in 4.0145063400268555 seconds\n",
      "Scraped review 616 in 4.752049922943115 seconds\n",
      "Scraped review 617 in 3.854673385620117 seconds\n",
      "Scraped review 618 in 4.694364070892334 seconds\n",
      "Scraped review 619 in 4.369904518127441 seconds\n",
      "Scraped review 621 in 4.066225051879883 seconds\n",
      "Scraped review 622 in 3.2353391647338867 seconds\n",
      "Scraped review 623 in 4.170018911361694 seconds\n",
      "Scraped review 626 in 4.281270742416382 seconds\n",
      "Scraped review 629 in 4.3122947216033936 seconds\n",
      "Scraped review 630 in 4.110638618469238 seconds\n",
      "Scraped review 633 in 3.286515235900879 seconds\n"
     ]
    },
    {
     "name": "stdout",
     "output_type": "stream",
     "text": [
      "Scraped review 634 in 3.9435174465179443 seconds\n",
      "Scraped review 635 in 4.13848876953125 seconds\n",
      "Scraped review 638 in 4.227725028991699 seconds\n",
      "Scraped review 639 in 4.106244325637817 seconds\n",
      "Scraped review 641 in 4.4744343757629395 seconds\n",
      "Scraped review 643 in 3.906491994857788 seconds\n",
      "Scraped review 644 in 4.364069223403931 seconds\n",
      "Scraped review 645 in 4.353146553039551 seconds\n",
      "Scraped review 647 in 4.224266052246094 seconds\n",
      "Scraped review 648 in 3.8968451023101807 seconds\n",
      "Scraped review 649 in 5.1342408657073975 seconds\n",
      "Scraped review 651 in 4.645830154418945 seconds\n",
      "Scraped review 653 in 4.441091299057007 seconds\n",
      "Scraped review 654 in 4.036016225814819 seconds\n",
      "Scraped review 655 in 4.866154193878174 seconds\n",
      "Scraped review 657 in 4.461041212081909 seconds\n",
      "Scraped review 658 in 4.322461366653442 seconds\n",
      "Scraped review 666 in 4.379740238189697 seconds\n",
      "Scraped review 668 in 4.7252233028411865 seconds\n",
      "Scraped review 673 in 4.288030624389648 seconds\n",
      "Scraped review 674 in 4.181926012039185 seconds\n",
      "Scraped review 675 in 4.453072547912598 seconds\n",
      "Scraped review 676 in 4.797717809677124 seconds\n",
      "Scraped review 678 in 3.946167469024658 seconds\n",
      "Scraped review 679 in 3.854991912841797 seconds\n",
      "Scraped review 680 in 4.052923917770386 seconds\n",
      "Scraped review 682 in 3.8326618671417236 seconds\n",
      "Scraped review 684 in 4.537307977676392 seconds\n",
      "Scraped review 686 in 4.364660263061523 seconds\n",
      "Scraped review 687 in 4.042380094528198 seconds\n",
      "Scraped review 688 in 4.360277414321899 seconds\n",
      "Scraped review 689 in 3.8428308963775635 seconds\n",
      "Scraped review 690 in 4.2854344844818115 seconds\n",
      "Scraped review 694 in 3.8820888996124268 seconds\n",
      "Scraped review 699 in 4.4192445278167725 seconds\n",
      "Scraped review 701 in 5.200258731842041 seconds\n",
      "Scraped review 702 in 4.235708713531494 seconds\n",
      "Scraped review 703 in 4.18789529800415 seconds\n",
      "Scraped review 704 in 4.395342588424683 seconds\n",
      "Scraped review 705 in 4.675010442733765 seconds\n",
      "Scraped review 714 in 4.062523126602173 seconds\n",
      "Scraped review 725 in 3.956970453262329 seconds\n",
      "Scraped review 726 in 3.6313412189483643 seconds\n",
      "Scraped review 728 in 3.914693593978882 seconds\n",
      "Scraped review 730 in 7.461495399475098 seconds\n",
      "Scraped review 732 in 4.068855047225952 seconds\n",
      "Scraped review 736 in 4.871459722518921 seconds\n",
      "Scraped review 737 in 4.783351898193359 seconds\n",
      "Scraped review 769 in 4.3608949184417725 seconds\n",
      "Scraped review 770 in 3.869905710220337 seconds\n",
      "Scraped review 774 in 4.681749582290649 seconds\n",
      "Scraped review 776 in 4.428534269332886 seconds\n",
      "Scraped review 777 in 4.414616584777832 seconds\n",
      "Scraped review 778 in 4.090668439865112 seconds\n",
      "Scraped review 780 in 4.541704416275024 seconds\n",
      "Scraped review 783 in 4.582611560821533 seconds\n",
      "Scraped review 786 in 4.425552129745483 seconds\n",
      "Scraped review 788 in 4.465572357177734 seconds\n",
      "Scraped review 789 in 4.097872972488403 seconds\n",
      "Scraped review 790 in 3.9124364852905273 seconds\n",
      "Scraped review 791 in 4.202040910720825 seconds\n",
      "Scraped review 792 in 4.5637311935424805 seconds\n",
      "Scraped review 793 in 4.351949453353882 seconds\n",
      "Scraped review 799 in 8.626906394958496 seconds\n",
      "Scraped review 811 in 4.859079837799072 seconds\n",
      "Scraped review 812 in 4.042682886123657 seconds\n",
      "Scraped review 826 in 4.004194498062134 seconds\n",
      "Scraped review 827 in 4.449742555618286 seconds\n",
      "Scraped review 829 in 4.4292004108428955 seconds\n",
      "Scraped review 832 in 5.1866819858551025 seconds\n",
      "Scraped review 833 in 4.726517200469971 seconds\n",
      "Scraped review 839 in 3.9892547130584717 seconds\n",
      "Scraped review 848 in 5.077054262161255 seconds\n",
      "Scraped review 849 in 5.542010068893433 seconds\n",
      "Scraped review 852 in 4.424958229064941 seconds\n",
      "Scraped review 853 in 5.801156044006348 seconds\n",
      "Scraped review 854 in 4.427236318588257 seconds\n",
      "Scraped review 862 in 4.1097776889801025 seconds\n",
      "Scraped review 863 in 3.834336280822754 seconds\n",
      "Scraped review 864 in 4.784970283508301 seconds\n",
      "Scraped review 866 in 4.79845929145813 seconds\n",
      "Scraped review 867 in 4.274982452392578 seconds\n",
      "Scraped review 869 in 4.651733875274658 seconds\n",
      "Scraped review 871 in 3.785435914993286 seconds\n",
      "Scraped review 873 in 4.544764518737793 seconds\n",
      "Scraped review 874 in 4.2002854347229 seconds\n",
      "Scraped review 875 in 4.267862796783447 seconds\n",
      "Scraped review 876 in 3.8243374824523926 seconds\n",
      "Scraped review 877 in 4.154978036880493 seconds\n",
      "Scraped review 880 in 3.64050030708313 seconds\n",
      "Scraped review 881 in 7.8172447681427 seconds\n",
      "Scraped review 883 in 4.289161682128906 seconds\n",
      "Scraped review 887 in 4.035177707672119 seconds\n",
      "Scraped review 889 in 4.487523078918457 seconds\n",
      "Scraped review 890 in 4.386460781097412 seconds\n",
      "Scraped review 892 in 4.112499952316284 seconds\n",
      "Scraped review 893 in 3.345822811126709 seconds\n",
      "Scraped review 894 in 4.66071081161499 seconds\n",
      "Scraped review 895 in 4.272126913070679 seconds\n",
      "Scraped review 896 in 4.191047430038452 seconds\n",
      "Scraped review 897 in 3.92041015625 seconds\n",
      "Scraped review 898 in 4.062099456787109 seconds\n",
      "Scraped review 899 in 4.120683431625366 seconds\n",
      "Scraped review 901 in 5.085245847702026 seconds\n",
      "Scraped review 902 in 4.459047079086304 seconds\n",
      "Scraped review 903 in 4.769593238830566 seconds\n",
      "Scraped review 908 in 4.83404278755188 seconds\n",
      "Scraped review 910 in 4.329420328140259 seconds\n",
      "Scraped review 911 in 4.608640909194946 seconds\n",
      "Scraped review 912 in 4.272231101989746 seconds\n",
      "Scraped review 913 in 3.8181989192962646 seconds\n",
      "Scraped review 914 in 3.8969509601593018 seconds\n",
      "Scraped review 915 in 4.313112735748291 seconds\n",
      "Scraped review 916 in 3.919637680053711 seconds\n",
      "Scraped review 918 in 4.421286344528198 seconds\n",
      "Scraped review 919 in 4.6364264488220215 seconds\n",
      "Scraped review 928 in 5.775763988494873 seconds\n",
      "Scraped review 929 in 3.8933310508728027 seconds\n",
      "Scraped review 937 in 3.217961549758911 seconds\n",
      "Scraped review 942 in 4.277762413024902 seconds\n",
      "Scraped review 943 in 4.084307670593262 seconds\n",
      "Scraped review 944 in 4.054877519607544 seconds\n",
      "Scraped review 945 in 3.170624017715454 seconds\n",
      "Scraped review 947 in 4.519345283508301 seconds\n",
      "Scraped review 949 in 4.243839502334595 seconds\n",
      "Scraped review 952 in 3.860301971435547 seconds\n",
      "Scraped review 954 in 3.889801263809204 seconds\n",
      "Scraped review 955 in 3.5893375873565674 seconds\n",
      "Scraped review 956 in 4.1819987297058105 seconds\n",
      "Scraped review 957 in 4.427435636520386 seconds\n",
      "Scraped review 958 in 4.151134490966797 seconds\n",
      "Scraped review 959 in 4.54837965965271 seconds\n",
      "Scraped review 960 in 4.489326000213623 seconds\n",
      "Scraped review 961 in 3.8316733837127686 seconds\n",
      "Scraped review 962 in 3.9910988807678223 seconds\n",
      "Scraped review 964 in 7.798449277877808 seconds\n",
      "Scraped review 965 in 4.283184289932251 seconds\n",
      "Scraped review 966 in 3.835840940475464 seconds\n",
      "Scraped review 970 in 4.140496253967285 seconds\n",
      "Scraped review 971 in 4.329535007476807 seconds\n",
      "Scraped review 972 in 4.941945314407349 seconds\n",
      "Scraped review 974 in 4.145085096359253 seconds\n",
      "Scraped review 978 in 4.758588790893555 seconds\n",
      "Scraped review 979 in 3.776310443878174 seconds\n",
      "Scraped review 981 in 4.114722013473511 seconds\n",
      "Scraped review 983 in 3.8812613487243652 seconds\n",
      "Scraped review 984 in 4.106402635574341 seconds\n",
      "Scraped review 986 in 3.588932752609253 seconds\n",
      "Scraped review 987 in 4.195310592651367 seconds\n",
      "Scraped review 992 in 3.9658563137054443 seconds\n",
      "Scraped review 993 in 4.316585302352905 seconds\n",
      "Scraped review 998 in 4.305365562438965 seconds\n",
      "Scraped review 999 in 4.226408243179321 seconds\n",
      "Scraped review 1003 in 2.7473881244659424 seconds\n",
      "Scraped review 1004 in 4.4386420249938965 seconds\n",
      "Scraped review 1005 in 3.7149617671966553 seconds\n",
      "Scraped review 1006 in 4.682520627975464 seconds\n",
      "Scraped review 1017 in 4.039613962173462 seconds\n",
      "Scraped review 1019 in 3.9001898765563965 seconds\n",
      "Scraped review 1020 in 3.7370805740356445 seconds\n",
      "Scraped review 1022 in 3.7100372314453125 seconds\n",
      "Scraped review 1023 in 3.772073984146118 seconds\n",
      "Scraped review 1026 in 3.7484874725341797 seconds\n",
      "Scraped review 1031 in 4.823534727096558 seconds\n",
      "Scraped review 1037 in 3.5734386444091797 seconds\n",
      "Scraped review 1038 in 4.2691473960876465 seconds\n",
      "Scraped review 1050 in 3.8728482723236084 seconds\n",
      "Scraped review 1053 in 4.7269861698150635 seconds\n",
      "Scraped review 1056 in 4.582972526550293 seconds\n",
      "Scraped review 1058 in 3.8887338638305664 seconds\n"
     ]
    },
    {
     "name": "stdout",
     "output_type": "stream",
     "text": [
      "Scraped review 1060 in 4.735133171081543 seconds\n",
      "Scraped review 1062 in 7.106236696243286 seconds\n",
      "Scraped 1062 reviews in total\n",
      "CPU times: user 1min 14s, sys: 1.14 s, total: 1min 15s\n",
      "Wall time: 32min 9s\n"
     ]
    }
   ],
   "source": [
    "%%time\n",
    "kbb_review_scrape(kbb_models)"
   ]
  }
 ],
 "metadata": {
  "kernelspec": {
   "display_name": "Python 3",
   "language": "python",
   "name": "python3"
  },
  "language_info": {
   "codemirror_mode": {
    "name": "ipython",
    "version": 3
   },
   "file_extension": ".py",
   "mimetype": "text/x-python",
   "name": "python",
   "nbconvert_exporter": "python",
   "pygments_lexer": "ipython3",
   "version": "3.6.2"
  }
 },
 "nbformat": 4,
 "nbformat_minor": 2
}
